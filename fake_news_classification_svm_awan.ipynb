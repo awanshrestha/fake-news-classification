{
  "metadata": {
    "kernelspec": {
      "language": "python",
      "display_name": "Python 3",
      "name": "python3"
    },
    "language_info": {
      "name": "python",
      "version": "3.7.10",
      "mimetype": "text/x-python",
      "codemirror_mode": {
        "name": "ipython",
        "version": 3
      },
      "pygments_lexer": "ipython3",
      "nbconvert_exporter": "python",
      "file_extension": ".py"
    },
    "colab": {
      "name": "fake-news-classification-svm-awan.ipynb",
      "provenance": [],
      "include_colab_link": true
    }
  },
  "nbformat_minor": 0,
  "nbformat": 4,
  "cells": [
    {
      "cell_type": "markdown",
      "metadata": {
        "id": "view-in-github",
        "colab_type": "text"
      },
      "source": [
        "<a href=\"https://colab.research.google.com/github/awanshrestha/fake-news-classification/blob/main/fake_news_classification_svm_awan.ipynb\" target=\"_parent\"><img src=\"https://colab.research.google.com/assets/colab-badge.svg\" alt=\"Open In Colab\"/></a>"
      ]
    },
    {
      "cell_type": "code",
      "source": [
        "import pandas as pd\n",
        "import numpy as np\n",
        "import matplotlib.pyplot as plt\n",
        "import seaborn as sns\n",
        "\n",
        "import re\n",
        "import string\n",
        "import os\n",
        "\n",
        "\n",
        "from bs4 import BeautifulSoup\n",
        "from textblob import TextBlob"
      ],
      "metadata": {
        "execution": {
          "iopub.status.busy": "2021-12-10T04:39:13.729417Z",
          "iopub.execute_input": "2021-12-10T04:39:13.729932Z",
          "iopub.status.idle": "2021-12-10T04:39:15.731494Z",
          "shell.execute_reply.started": "2021-12-10T04:39:13.729834Z",
          "shell.execute_reply": "2021-12-10T04:39:15.730657Z"
        },
        "trusted": true,
        "id": "B2cKkiZshYxx"
      },
      "execution_count": 6,
      "outputs": []
    },
    {
      "cell_type": "code",
      "source": [
        "# Import true and fake data"
      ],
      "metadata": {
        "execution": {
          "iopub.status.busy": "2021-12-10T04:39:15.732889Z",
          "iopub.execute_input": "2021-12-10T04:39:15.733105Z",
          "iopub.status.idle": "2021-12-10T04:39:15.738966Z",
          "shell.execute_reply.started": "2021-12-10T04:39:15.733079Z",
          "shell.execute_reply": "2021-12-10T04:39:15.738216Z"
        },
        "trusted": true,
        "id": "reHw2Sn4hYxz"
      },
      "execution_count": 7,
      "outputs": []
    },
    {
      "cell_type": "markdown",
      "source": [
        "# **Importing data**"
      ],
      "metadata": {
        "id": "cybiXGw2hYx0"
      }
    },
    {
      "cell_type": "code",
      "source": [
        "from google.colab import drive\n",
        "drive.mount('/content/drive')"
      ],
      "metadata": {
        "colab": {
          "base_uri": "https://localhost:8080/"
        },
        "id": "VMnwfgQXiETj",
        "outputId": "09d659f6-8a58-40e6-e315-43a96e372c20"
      },
      "execution_count": 8,
      "outputs": [
        {
          "output_type": "stream",
          "name": "stdout",
          "text": [
            "Drive already mounted at /content/drive; to attempt to forcibly remount, call drive.mount(\"/content/drive\", force_remount=True).\n"
          ]
        }
      ]
    },
    {
      "cell_type": "code",
      "source": [
        "true = pd.read_csv('/content/drive/MyDrive/Colab Notebooks/True.csv', index_col=False)\n",
        "fake = pd.read_csv('/content/drive/MyDrive/Colab Notebooks/Fake.csv', index_col=False)"
      ],
      "metadata": {
        "execution": {
          "iopub.status.busy": "2021-12-10T04:39:15.740405Z",
          "iopub.execute_input": "2021-12-10T04:39:15.741052Z",
          "iopub.status.idle": "2021-12-10T04:39:18.790382Z",
          "shell.execute_reply.started": "2021-12-10T04:39:15.741013Z",
          "shell.execute_reply": "2021-12-10T04:39:18.789759Z"
        },
        "trusted": true,
        "id": "vRAWQK_7hYx2"
      },
      "execution_count": 9,
      "outputs": []
    },
    {
      "cell_type": "code",
      "source": [
        "# Some info about dataframes:"
      ],
      "metadata": {
        "execution": {
          "iopub.status.busy": "2021-12-10T04:39:18.792047Z",
          "iopub.execute_input": "2021-12-10T04:39:18.792291Z",
          "iopub.status.idle": "2021-12-10T04:39:18.798897Z",
          "shell.execute_reply.started": "2021-12-10T04:39:18.792260Z",
          "shell.execute_reply": "2021-12-10T04:39:18.798019Z"
        },
        "trusted": true,
        "id": "ZdtA1adWhYx3"
      },
      "execution_count": 10,
      "outputs": []
    },
    {
      "cell_type": "code",
      "source": [
        "true.head()"
      ],
      "metadata": {
        "execution": {
          "iopub.status.busy": "2021-12-10T04:39:18.799957Z",
          "iopub.execute_input": "2021-12-10T04:39:18.800271Z",
          "iopub.status.idle": "2021-12-10T04:39:18.830554Z",
          "shell.execute_reply.started": "2021-12-10T04:39:18.800237Z",
          "shell.execute_reply": "2021-12-10T04:39:18.829811Z"
        },
        "trusted": true,
        "colab": {
          "base_uri": "https://localhost:8080/",
          "height": 206
        },
        "id": "H6hnB_ewhYx4",
        "outputId": "86d4d991-a1d0-4f57-abd9-a9c6455dcd7b"
      },
      "execution_count": 11,
      "outputs": [
        {
          "output_type": "execute_result",
          "data": {
            "text/html": [
              "<div>\n",
              "<style scoped>\n",
              "    .dataframe tbody tr th:only-of-type {\n",
              "        vertical-align: middle;\n",
              "    }\n",
              "\n",
              "    .dataframe tbody tr th {\n",
              "        vertical-align: top;\n",
              "    }\n",
              "\n",
              "    .dataframe thead th {\n",
              "        text-align: right;\n",
              "    }\n",
              "</style>\n",
              "<table border=\"1\" class=\"dataframe\">\n",
              "  <thead>\n",
              "    <tr style=\"text-align: right;\">\n",
              "      <th></th>\n",
              "      <th>title</th>\n",
              "      <th>text</th>\n",
              "      <th>subject</th>\n",
              "      <th>date</th>\n",
              "    </tr>\n",
              "  </thead>\n",
              "  <tbody>\n",
              "    <tr>\n",
              "      <th>0</th>\n",
              "      <td>As U.S. budget fight looms, Republicans flip t...</td>\n",
              "      <td>WASHINGTON (Reuters) - The head of a conservat...</td>\n",
              "      <td>politicsNews</td>\n",
              "      <td>December 31, 2017</td>\n",
              "    </tr>\n",
              "    <tr>\n",
              "      <th>1</th>\n",
              "      <td>U.S. military to accept transgender recruits o...</td>\n",
              "      <td>WASHINGTON (Reuters) - Transgender people will...</td>\n",
              "      <td>politicsNews</td>\n",
              "      <td>December 29, 2017</td>\n",
              "    </tr>\n",
              "    <tr>\n",
              "      <th>2</th>\n",
              "      <td>Senior U.S. Republican senator: 'Let Mr. Muell...</td>\n",
              "      <td>WASHINGTON (Reuters) - The special counsel inv...</td>\n",
              "      <td>politicsNews</td>\n",
              "      <td>December 31, 2017</td>\n",
              "    </tr>\n",
              "    <tr>\n",
              "      <th>3</th>\n",
              "      <td>FBI Russia probe helped by Australian diplomat...</td>\n",
              "      <td>WASHINGTON (Reuters) - Trump campaign adviser ...</td>\n",
              "      <td>politicsNews</td>\n",
              "      <td>December 30, 2017</td>\n",
              "    </tr>\n",
              "    <tr>\n",
              "      <th>4</th>\n",
              "      <td>Trump wants Postal Service to charge 'much mor...</td>\n",
              "      <td>SEATTLE/WASHINGTON (Reuters) - President Donal...</td>\n",
              "      <td>politicsNews</td>\n",
              "      <td>December 29, 2017</td>\n",
              "    </tr>\n",
              "  </tbody>\n",
              "</table>\n",
              "</div>"
            ],
            "text/plain": [
              "                                               title  ...                date\n",
              "0  As U.S. budget fight looms, Republicans flip t...  ...  December 31, 2017 \n",
              "1  U.S. military to accept transgender recruits o...  ...  December 29, 2017 \n",
              "2  Senior U.S. Republican senator: 'Let Mr. Muell...  ...  December 31, 2017 \n",
              "3  FBI Russia probe helped by Australian diplomat...  ...  December 30, 2017 \n",
              "4  Trump wants Postal Service to charge 'much mor...  ...  December 29, 2017 \n",
              "\n",
              "[5 rows x 4 columns]"
            ]
          },
          "metadata": {},
          "execution_count": 11
        }
      ]
    },
    {
      "cell_type": "code",
      "source": [
        "fake.head()"
      ],
      "metadata": {
        "execution": {
          "iopub.status.busy": "2021-12-10T04:39:18.832232Z",
          "iopub.execute_input": "2021-12-10T04:39:18.832686Z",
          "iopub.status.idle": "2021-12-10T04:39:18.844201Z",
          "shell.execute_reply.started": "2021-12-10T04:39:18.832649Z",
          "shell.execute_reply": "2021-12-10T04:39:18.843299Z"
        },
        "trusted": true,
        "colab": {
          "base_uri": "https://localhost:8080/",
          "height": 206
        },
        "id": "eqXy1qqShYx5",
        "outputId": "2be88508-1e78-45b9-9481-1ee7617797ac"
      },
      "execution_count": 12,
      "outputs": [
        {
          "output_type": "execute_result",
          "data": {
            "text/html": [
              "<div>\n",
              "<style scoped>\n",
              "    .dataframe tbody tr th:only-of-type {\n",
              "        vertical-align: middle;\n",
              "    }\n",
              "\n",
              "    .dataframe tbody tr th {\n",
              "        vertical-align: top;\n",
              "    }\n",
              "\n",
              "    .dataframe thead th {\n",
              "        text-align: right;\n",
              "    }\n",
              "</style>\n",
              "<table border=\"1\" class=\"dataframe\">\n",
              "  <thead>\n",
              "    <tr style=\"text-align: right;\">\n",
              "      <th></th>\n",
              "      <th>title</th>\n",
              "      <th>text</th>\n",
              "      <th>subject</th>\n",
              "      <th>date</th>\n",
              "    </tr>\n",
              "  </thead>\n",
              "  <tbody>\n",
              "    <tr>\n",
              "      <th>0</th>\n",
              "      <td>Donald Trump Sends Out Embarrassing New Year’...</td>\n",
              "      <td>Donald Trump just couldn t wish all Americans ...</td>\n",
              "      <td>News</td>\n",
              "      <td>December 31, 2017</td>\n",
              "    </tr>\n",
              "    <tr>\n",
              "      <th>1</th>\n",
              "      <td>Drunk Bragging Trump Staffer Started Russian ...</td>\n",
              "      <td>House Intelligence Committee Chairman Devin Nu...</td>\n",
              "      <td>News</td>\n",
              "      <td>December 31, 2017</td>\n",
              "    </tr>\n",
              "    <tr>\n",
              "      <th>2</th>\n",
              "      <td>Sheriff David Clarke Becomes An Internet Joke...</td>\n",
              "      <td>On Friday, it was revealed that former Milwauk...</td>\n",
              "      <td>News</td>\n",
              "      <td>December 30, 2017</td>\n",
              "    </tr>\n",
              "    <tr>\n",
              "      <th>3</th>\n",
              "      <td>Trump Is So Obsessed He Even Has Obama’s Name...</td>\n",
              "      <td>On Christmas day, Donald Trump announced that ...</td>\n",
              "      <td>News</td>\n",
              "      <td>December 29, 2017</td>\n",
              "    </tr>\n",
              "    <tr>\n",
              "      <th>4</th>\n",
              "      <td>Pope Francis Just Called Out Donald Trump Dur...</td>\n",
              "      <td>Pope Francis used his annual Christmas Day mes...</td>\n",
              "      <td>News</td>\n",
              "      <td>December 25, 2017</td>\n",
              "    </tr>\n",
              "  </tbody>\n",
              "</table>\n",
              "</div>"
            ],
            "text/plain": [
              "                                               title  ...               date\n",
              "0   Donald Trump Sends Out Embarrassing New Year’...  ...  December 31, 2017\n",
              "1   Drunk Bragging Trump Staffer Started Russian ...  ...  December 31, 2017\n",
              "2   Sheriff David Clarke Becomes An Internet Joke...  ...  December 30, 2017\n",
              "3   Trump Is So Obsessed He Even Has Obama’s Name...  ...  December 29, 2017\n",
              "4   Pope Francis Just Called Out Donald Trump Dur...  ...  December 25, 2017\n",
              "\n",
              "[5 rows x 4 columns]"
            ]
          },
          "metadata": {},
          "execution_count": 12
        }
      ]
    },
    {
      "cell_type": "code",
      "source": [
        "true.info()"
      ],
      "metadata": {
        "execution": {
          "iopub.status.busy": "2021-12-10T04:39:18.845869Z",
          "iopub.execute_input": "2021-12-10T04:39:18.846185Z",
          "iopub.status.idle": "2021-12-10T04:39:18.884244Z",
          "shell.execute_reply.started": "2021-12-10T04:39:18.846141Z",
          "shell.execute_reply": "2021-12-10T04:39:18.883299Z"
        },
        "trusted": true,
        "colab": {
          "base_uri": "https://localhost:8080/"
        },
        "id": "TsnoOGCyhYx6",
        "outputId": "6bd33b47-85cb-46f3-a681-5922d1ee95b4"
      },
      "execution_count": 13,
      "outputs": [
        {
          "output_type": "stream",
          "name": "stdout",
          "text": [
            "<class 'pandas.core.frame.DataFrame'>\n",
            "RangeIndex: 21417 entries, 0 to 21416\n",
            "Data columns (total 4 columns):\n",
            " #   Column   Non-Null Count  Dtype \n",
            "---  ------   --------------  ----- \n",
            " 0   title    21417 non-null  object\n",
            " 1   text     21417 non-null  object\n",
            " 2   subject  21417 non-null  object\n",
            " 3   date     21417 non-null  object\n",
            "dtypes: object(4)\n",
            "memory usage: 669.4+ KB\n"
          ]
        }
      ]
    },
    {
      "cell_type": "code",
      "source": [
        "fake.info()"
      ],
      "metadata": {
        "execution": {
          "iopub.status.busy": "2021-12-10T04:39:18.885199Z",
          "iopub.execute_input": "2021-12-10T04:39:18.886141Z",
          "iopub.status.idle": "2021-12-10T04:39:18.910482Z",
          "shell.execute_reply.started": "2021-12-10T04:39:18.886103Z",
          "shell.execute_reply": "2021-12-10T04:39:18.909570Z"
        },
        "trusted": true,
        "colab": {
          "base_uri": "https://localhost:8080/"
        },
        "id": "Kuq8IsPwhYx6",
        "outputId": "df34f9fd-89e5-4361-9391-c72331191600"
      },
      "execution_count": 14,
      "outputs": [
        {
          "output_type": "stream",
          "name": "stdout",
          "text": [
            "<class 'pandas.core.frame.DataFrame'>\n",
            "RangeIndex: 23481 entries, 0 to 23480\n",
            "Data columns (total 4 columns):\n",
            " #   Column   Non-Null Count  Dtype \n",
            "---  ------   --------------  ----- \n",
            " 0   title    23481 non-null  object\n",
            " 1   text     23481 non-null  object\n",
            " 2   subject  23481 non-null  object\n",
            " 3   date     23481 non-null  object\n",
            "dtypes: object(4)\n",
            "memory usage: 733.9+ KB\n"
          ]
        }
      ]
    },
    {
      "cell_type": "code",
      "source": [
        "# As we can see, totally we have something about 50k news divided by \n",
        "# fake and not fake news\n",
        "# Let's check some null values in dataframes:"
      ],
      "metadata": {
        "execution": {
          "iopub.status.busy": "2021-12-10T04:39:18.912169Z",
          "iopub.execute_input": "2021-12-10T04:39:18.912880Z",
          "iopub.status.idle": "2021-12-10T04:39:18.917149Z",
          "shell.execute_reply.started": "2021-12-10T04:39:18.912833Z",
          "shell.execute_reply": "2021-12-10T04:39:18.915986Z"
        },
        "trusted": true,
        "id": "qPNKuy_DhYx7"
      },
      "execution_count": 15,
      "outputs": []
    },
    {
      "cell_type": "code",
      "source": [
        "true.isna().sum()"
      ],
      "metadata": {
        "execution": {
          "iopub.status.busy": "2021-12-10T04:39:18.921482Z",
          "iopub.execute_input": "2021-12-10T04:39:18.921759Z",
          "iopub.status.idle": "2021-12-10T04:39:18.943790Z",
          "shell.execute_reply.started": "2021-12-10T04:39:18.921723Z",
          "shell.execute_reply": "2021-12-10T04:39:18.942909Z"
        },
        "trusted": true,
        "colab": {
          "base_uri": "https://localhost:8080/"
        },
        "id": "ABPZQXKShYx8",
        "outputId": "17a1e960-303e-4123-92e2-778ae85fea45"
      },
      "execution_count": 16,
      "outputs": [
        {
          "output_type": "execute_result",
          "data": {
            "text/plain": [
              "title      0\n",
              "text       0\n",
              "subject    0\n",
              "date       0\n",
              "dtype: int64"
            ]
          },
          "metadata": {},
          "execution_count": 16
        }
      ]
    },
    {
      "cell_type": "code",
      "source": [
        "fake.isna().sum()"
      ],
      "metadata": {
        "execution": {
          "iopub.status.busy": "2021-12-10T04:39:18.945455Z",
          "iopub.execute_input": "2021-12-10T04:39:18.945775Z",
          "iopub.status.idle": "2021-12-10T04:39:18.967413Z",
          "shell.execute_reply.started": "2021-12-10T04:39:18.945733Z",
          "shell.execute_reply": "2021-12-10T04:39:18.966442Z"
        },
        "trusted": true,
        "colab": {
          "base_uri": "https://localhost:8080/"
        },
        "id": "pmVJnTZShYx8",
        "outputId": "96d643c2-0376-468c-8e79-460e2c755a13"
      },
      "execution_count": 17,
      "outputs": [
        {
          "output_type": "execute_result",
          "data": {
            "text/plain": [
              "title      0\n",
              "text       0\n",
              "subject    0\n",
              "date       0\n",
              "dtype: int64"
            ]
          },
          "metadata": {},
          "execution_count": 17
        }
      ]
    },
    {
      "cell_type": "code",
      "source": [
        "# Okay, now we can concatenate our data's , but before we'll do it, we need \n",
        "# to mark them by 1 and 0 (true / fake)"
      ],
      "metadata": {
        "execution": {
          "iopub.status.busy": "2021-12-10T04:39:18.968805Z",
          "iopub.execute_input": "2021-12-10T04:39:18.969181Z",
          "iopub.status.idle": "2021-12-10T04:39:18.976534Z",
          "shell.execute_reply.started": "2021-12-10T04:39:18.969141Z",
          "shell.execute_reply": "2021-12-10T04:39:18.975742Z"
        },
        "trusted": true,
        "id": "fWd_0fXzhYx9"
      },
      "execution_count": 18,
      "outputs": []
    },
    {
      "cell_type": "code",
      "source": [
        "true['target'] = 0"
      ],
      "metadata": {
        "execution": {
          "iopub.status.busy": "2021-12-10T04:39:18.977774Z",
          "iopub.execute_input": "2021-12-10T04:39:18.977987Z",
          "iopub.status.idle": "2021-12-10T04:39:18.990015Z",
          "shell.execute_reply.started": "2021-12-10T04:39:18.977961Z",
          "shell.execute_reply": "2021-12-10T04:39:18.989374Z"
        },
        "trusted": true,
        "id": "5iklBSjyhYx_"
      },
      "execution_count": 19,
      "outputs": []
    },
    {
      "cell_type": "code",
      "source": [
        "true.head()"
      ],
      "metadata": {
        "execution": {
          "iopub.status.busy": "2021-12-10T04:39:18.991287Z",
          "iopub.execute_input": "2021-12-10T04:39:18.991518Z",
          "iopub.status.idle": "2021-12-10T04:39:19.010534Z",
          "shell.execute_reply.started": "2021-12-10T04:39:18.991489Z",
          "shell.execute_reply": "2021-12-10T04:39:19.009875Z"
        },
        "trusted": true,
        "colab": {
          "base_uri": "https://localhost:8080/",
          "height": 206
        },
        "id": "t0xILYefhYx_",
        "outputId": "be7bd7d8-b7a9-458e-fb3c-258e690a8697"
      },
      "execution_count": 20,
      "outputs": [
        {
          "output_type": "execute_result",
          "data": {
            "text/html": [
              "<div>\n",
              "<style scoped>\n",
              "    .dataframe tbody tr th:only-of-type {\n",
              "        vertical-align: middle;\n",
              "    }\n",
              "\n",
              "    .dataframe tbody tr th {\n",
              "        vertical-align: top;\n",
              "    }\n",
              "\n",
              "    .dataframe thead th {\n",
              "        text-align: right;\n",
              "    }\n",
              "</style>\n",
              "<table border=\"1\" class=\"dataframe\">\n",
              "  <thead>\n",
              "    <tr style=\"text-align: right;\">\n",
              "      <th></th>\n",
              "      <th>title</th>\n",
              "      <th>text</th>\n",
              "      <th>subject</th>\n",
              "      <th>date</th>\n",
              "      <th>target</th>\n",
              "    </tr>\n",
              "  </thead>\n",
              "  <tbody>\n",
              "    <tr>\n",
              "      <th>0</th>\n",
              "      <td>As U.S. budget fight looms, Republicans flip t...</td>\n",
              "      <td>WASHINGTON (Reuters) - The head of a conservat...</td>\n",
              "      <td>politicsNews</td>\n",
              "      <td>December 31, 2017</td>\n",
              "      <td>0</td>\n",
              "    </tr>\n",
              "    <tr>\n",
              "      <th>1</th>\n",
              "      <td>U.S. military to accept transgender recruits o...</td>\n",
              "      <td>WASHINGTON (Reuters) - Transgender people will...</td>\n",
              "      <td>politicsNews</td>\n",
              "      <td>December 29, 2017</td>\n",
              "      <td>0</td>\n",
              "    </tr>\n",
              "    <tr>\n",
              "      <th>2</th>\n",
              "      <td>Senior U.S. Republican senator: 'Let Mr. Muell...</td>\n",
              "      <td>WASHINGTON (Reuters) - The special counsel inv...</td>\n",
              "      <td>politicsNews</td>\n",
              "      <td>December 31, 2017</td>\n",
              "      <td>0</td>\n",
              "    </tr>\n",
              "    <tr>\n",
              "      <th>3</th>\n",
              "      <td>FBI Russia probe helped by Australian diplomat...</td>\n",
              "      <td>WASHINGTON (Reuters) - Trump campaign adviser ...</td>\n",
              "      <td>politicsNews</td>\n",
              "      <td>December 30, 2017</td>\n",
              "      <td>0</td>\n",
              "    </tr>\n",
              "    <tr>\n",
              "      <th>4</th>\n",
              "      <td>Trump wants Postal Service to charge 'much mor...</td>\n",
              "      <td>SEATTLE/WASHINGTON (Reuters) - President Donal...</td>\n",
              "      <td>politicsNews</td>\n",
              "      <td>December 29, 2017</td>\n",
              "      <td>0</td>\n",
              "    </tr>\n",
              "  </tbody>\n",
              "</table>\n",
              "</div>"
            ],
            "text/plain": [
              "                                               title  ... target\n",
              "0  As U.S. budget fight looms, Republicans flip t...  ...      0\n",
              "1  U.S. military to accept transgender recruits o...  ...      0\n",
              "2  Senior U.S. Republican senator: 'Let Mr. Muell...  ...      0\n",
              "3  FBI Russia probe helped by Australian diplomat...  ...      0\n",
              "4  Trump wants Postal Service to charge 'much mor...  ...      0\n",
              "\n",
              "[5 rows x 5 columns]"
            ]
          },
          "metadata": {},
          "execution_count": 20
        }
      ]
    },
    {
      "cell_type": "code",
      "source": [
        "fake['target'] = 1"
      ],
      "metadata": {
        "execution": {
          "iopub.status.busy": "2021-12-10T04:39:19.011755Z",
          "iopub.execute_input": "2021-12-10T04:39:19.012084Z",
          "iopub.status.idle": "2021-12-10T04:39:19.022688Z",
          "shell.execute_reply.started": "2021-12-10T04:39:19.012055Z",
          "shell.execute_reply": "2021-12-10T04:39:19.021966Z"
        },
        "trusted": true,
        "id": "CbKNTI9chYyA"
      },
      "execution_count": 21,
      "outputs": []
    },
    {
      "cell_type": "code",
      "source": [
        "fake.head()"
      ],
      "metadata": {
        "execution": {
          "iopub.status.busy": "2021-12-10T04:39:19.023773Z",
          "iopub.execute_input": "2021-12-10T04:39:19.024262Z",
          "iopub.status.idle": "2021-12-10T04:39:19.044499Z",
          "shell.execute_reply.started": "2021-12-10T04:39:19.024226Z",
          "shell.execute_reply": "2021-12-10T04:39:19.043464Z"
        },
        "trusted": true,
        "colab": {
          "base_uri": "https://localhost:8080/",
          "height": 206
        },
        "id": "6ot7Ji7nhYyB",
        "outputId": "bf33d10f-e950-4565-8bf8-634d34f24ec8"
      },
      "execution_count": 22,
      "outputs": [
        {
          "output_type": "execute_result",
          "data": {
            "text/html": [
              "<div>\n",
              "<style scoped>\n",
              "    .dataframe tbody tr th:only-of-type {\n",
              "        vertical-align: middle;\n",
              "    }\n",
              "\n",
              "    .dataframe tbody tr th {\n",
              "        vertical-align: top;\n",
              "    }\n",
              "\n",
              "    .dataframe thead th {\n",
              "        text-align: right;\n",
              "    }\n",
              "</style>\n",
              "<table border=\"1\" class=\"dataframe\">\n",
              "  <thead>\n",
              "    <tr style=\"text-align: right;\">\n",
              "      <th></th>\n",
              "      <th>title</th>\n",
              "      <th>text</th>\n",
              "      <th>subject</th>\n",
              "      <th>date</th>\n",
              "      <th>target</th>\n",
              "    </tr>\n",
              "  </thead>\n",
              "  <tbody>\n",
              "    <tr>\n",
              "      <th>0</th>\n",
              "      <td>Donald Trump Sends Out Embarrassing New Year’...</td>\n",
              "      <td>Donald Trump just couldn t wish all Americans ...</td>\n",
              "      <td>News</td>\n",
              "      <td>December 31, 2017</td>\n",
              "      <td>1</td>\n",
              "    </tr>\n",
              "    <tr>\n",
              "      <th>1</th>\n",
              "      <td>Drunk Bragging Trump Staffer Started Russian ...</td>\n",
              "      <td>House Intelligence Committee Chairman Devin Nu...</td>\n",
              "      <td>News</td>\n",
              "      <td>December 31, 2017</td>\n",
              "      <td>1</td>\n",
              "    </tr>\n",
              "    <tr>\n",
              "      <th>2</th>\n",
              "      <td>Sheriff David Clarke Becomes An Internet Joke...</td>\n",
              "      <td>On Friday, it was revealed that former Milwauk...</td>\n",
              "      <td>News</td>\n",
              "      <td>December 30, 2017</td>\n",
              "      <td>1</td>\n",
              "    </tr>\n",
              "    <tr>\n",
              "      <th>3</th>\n",
              "      <td>Trump Is So Obsessed He Even Has Obama’s Name...</td>\n",
              "      <td>On Christmas day, Donald Trump announced that ...</td>\n",
              "      <td>News</td>\n",
              "      <td>December 29, 2017</td>\n",
              "      <td>1</td>\n",
              "    </tr>\n",
              "    <tr>\n",
              "      <th>4</th>\n",
              "      <td>Pope Francis Just Called Out Donald Trump Dur...</td>\n",
              "      <td>Pope Francis used his annual Christmas Day mes...</td>\n",
              "      <td>News</td>\n",
              "      <td>December 25, 2017</td>\n",
              "      <td>1</td>\n",
              "    </tr>\n",
              "  </tbody>\n",
              "</table>\n",
              "</div>"
            ],
            "text/plain": [
              "                                               title  ... target\n",
              "0   Donald Trump Sends Out Embarrassing New Year’...  ...      1\n",
              "1   Drunk Bragging Trump Staffer Started Russian ...  ...      1\n",
              "2   Sheriff David Clarke Becomes An Internet Joke...  ...      1\n",
              "3   Trump Is So Obsessed He Even Has Obama’s Name...  ...      1\n",
              "4   Pope Francis Just Called Out Donald Trump Dur...  ...      1\n",
              "\n",
              "[5 rows x 5 columns]"
            ]
          },
          "metadata": {},
          "execution_count": 22
        }
      ]
    },
    {
      "cell_type": "code",
      "source": [
        "# let's concatenate our data"
      ],
      "metadata": {
        "execution": {
          "iopub.status.busy": "2021-12-10T04:39:19.045929Z",
          "iopub.execute_input": "2021-12-10T04:39:19.046195Z",
          "iopub.status.idle": "2021-12-10T04:39:19.054121Z",
          "shell.execute_reply.started": "2021-12-10T04:39:19.046167Z",
          "shell.execute_reply": "2021-12-10T04:39:19.053484Z"
        },
        "trusted": true,
        "id": "OVxZwXcahYyC"
      },
      "execution_count": 23,
      "outputs": []
    },
    {
      "cell_type": "code",
      "source": [
        "df = [true, fake]\n",
        "\n",
        "# Ignore index\n",
        "data = pd.concat(df, ignore_index=True)"
      ],
      "metadata": {
        "execution": {
          "iopub.status.busy": "2021-12-10T04:39:19.055288Z",
          "iopub.execute_input": "2021-12-10T04:39:19.056029Z",
          "iopub.status.idle": "2021-12-10T04:39:19.071136Z",
          "shell.execute_reply.started": "2021-12-10T04:39:19.055984Z",
          "shell.execute_reply": "2021-12-10T04:39:19.070444Z"
        },
        "trusted": true,
        "id": "M7RQU3qdhYyD"
      },
      "execution_count": 24,
      "outputs": []
    },
    {
      "cell_type": "code",
      "source": [
        "# words count\n",
        "def words_count(df):\n",
        "    length = len(str(df).split())\n",
        "    return length\n",
        "\n",
        "# characters count\n",
        "\n",
        "def char_count(df):\n",
        "    string = df.split()\n",
        "    x = ''.join(string)\n",
        "    return len(x)\n",
        "\n",
        "# hashtags count\n",
        "\n",
        "def hashtag_count(df):\n",
        "    hashtag = len([t for t in df.split() if t.startswith('#')])\n",
        "    return hashtag\n",
        "\n",
        "# email count\n",
        "\n",
        "def email_count(df):\n",
        "    email = len([t for t in df.split() if t.startswith('@')])\n",
        "    return email\n",
        "\n",
        "# digits count\n",
        "\n",
        "def digits_count(df):\n",
        "    digits = re.findall(r'[0-9]+', df)\n",
        "    return digits\n"
      ],
      "metadata": {
        "execution": {
          "iopub.status.busy": "2021-12-10T04:39:19.072259Z",
          "iopub.execute_input": "2021-12-10T04:39:19.072485Z",
          "iopub.status.idle": "2021-12-10T04:39:19.080146Z",
          "shell.execute_reply.started": "2021-12-10T04:39:19.072458Z",
          "shell.execute_reply": "2021-12-10T04:39:19.079607Z"
        },
        "trusted": true,
        "id": "YsD4x7fNhYyD"
      },
      "execution_count": 25,
      "outputs": []
    },
    {
      "cell_type": "code",
      "source": [
        "def get_features(df):\n",
        "    df['words_count'] = df['text'].apply(lambda x: words_count(x))\n",
        "    df['char_count'] = df['text'].apply(lambda x: char_count(x))\n",
        "    df['hashtags_count'] = df['text'].apply(lambda x: hashtag_count(x))\n",
        "    df['email_counts'] = df['text'].apply(lambda x: email_count(x))\n",
        "    df['digits_count'] = df['text'].apply(lambda x: digits_count(x))\n",
        "    \n",
        "    return df"
      ],
      "metadata": {
        "execution": {
          "iopub.status.busy": "2021-12-10T04:39:19.081065Z",
          "iopub.execute_input": "2021-12-10T04:39:19.081854Z",
          "iopub.status.idle": "2021-12-10T04:39:19.094098Z",
          "shell.execute_reply.started": "2021-12-10T04:39:19.081818Z",
          "shell.execute_reply": "2021-12-10T04:39:19.093465Z"
        },
        "trusted": true,
        "id": "yioBaZIwhYyF"
      },
      "execution_count": 26,
      "outputs": []
    },
    {
      "cell_type": "code",
      "source": [
        "data = get_features(data)"
      ],
      "metadata": {
        "execution": {
          "iopub.status.busy": "2021-12-10T04:39:19.095060Z",
          "iopub.execute_input": "2021-12-10T04:39:19.095406Z",
          "iopub.status.idle": "2021-12-10T04:39:32.632977Z",
          "shell.execute_reply.started": "2021-12-10T04:39:19.095372Z",
          "shell.execute_reply": "2021-12-10T04:39:32.632188Z"
        },
        "trusted": true,
        "id": "nRM680NNhYyG"
      },
      "execution_count": 27,
      "outputs": []
    },
    {
      "cell_type": "code",
      "source": [
        "data.head()"
      ],
      "metadata": {
        "execution": {
          "iopub.status.busy": "2021-12-10T04:39:32.634340Z",
          "iopub.execute_input": "2021-12-10T04:39:32.634611Z",
          "iopub.status.idle": "2021-12-10T04:39:32.650759Z",
          "shell.execute_reply.started": "2021-12-10T04:39:32.634573Z",
          "shell.execute_reply": "2021-12-10T04:39:32.650144Z"
        },
        "trusted": true,
        "colab": {
          "base_uri": "https://localhost:8080/",
          "height": 292
        },
        "id": "4Wt0GncGhYyH",
        "outputId": "cccaec82-9ff5-4363-9d3b-1903c244c651"
      },
      "execution_count": 28,
      "outputs": [
        {
          "output_type": "execute_result",
          "data": {
            "text/html": [
              "<div>\n",
              "<style scoped>\n",
              "    .dataframe tbody tr th:only-of-type {\n",
              "        vertical-align: middle;\n",
              "    }\n",
              "\n",
              "    .dataframe tbody tr th {\n",
              "        vertical-align: top;\n",
              "    }\n",
              "\n",
              "    .dataframe thead th {\n",
              "        text-align: right;\n",
              "    }\n",
              "</style>\n",
              "<table border=\"1\" class=\"dataframe\">\n",
              "  <thead>\n",
              "    <tr style=\"text-align: right;\">\n",
              "      <th></th>\n",
              "      <th>title</th>\n",
              "      <th>text</th>\n",
              "      <th>subject</th>\n",
              "      <th>date</th>\n",
              "      <th>target</th>\n",
              "      <th>words_count</th>\n",
              "      <th>char_count</th>\n",
              "      <th>hashtags_count</th>\n",
              "      <th>email_counts</th>\n",
              "      <th>digits_count</th>\n",
              "    </tr>\n",
              "  </thead>\n",
              "  <tbody>\n",
              "    <tr>\n",
              "      <th>0</th>\n",
              "      <td>As U.S. budget fight looms, Republicans flip t...</td>\n",
              "      <td>WASHINGTON (Reuters) - The head of a conservat...</td>\n",
              "      <td>politicsNews</td>\n",
              "      <td>December 31, 2017</td>\n",
              "      <td>0</td>\n",
              "      <td>749</td>\n",
              "      <td>3907</td>\n",
              "      <td>0</td>\n",
              "      <td>0</td>\n",
              "      <td>[2018, 7, 10, 11, 1, 5, 10, 20, 1, 5, 30, 2018...</td>\n",
              "    </tr>\n",
              "    <tr>\n",
              "      <th>1</th>\n",
              "      <td>U.S. military to accept transgender recruits o...</td>\n",
              "      <td>WASHINGTON (Reuters) - Transgender people will...</td>\n",
              "      <td>politicsNews</td>\n",
              "      <td>December 29, 2017</td>\n",
              "      <td>0</td>\n",
              "      <td>624</td>\n",
              "      <td>3453</td>\n",
              "      <td>0</td>\n",
              "      <td>0</td>\n",
              "      <td>[1, 21, 1, 8, 1, 1, 2017, 1, 2018]</td>\n",
              "    </tr>\n",
              "    <tr>\n",
              "      <th>2</th>\n",
              "      <td>Senior U.S. Republican senator: 'Let Mr. Muell...</td>\n",
              "      <td>WASHINGTON (Reuters) - The special counsel inv...</td>\n",
              "      <td>politicsNews</td>\n",
              "      <td>December 31, 2017</td>\n",
              "      <td>0</td>\n",
              "      <td>457</td>\n",
              "      <td>2324</td>\n",
              "      <td>0</td>\n",
              "      <td>0</td>\n",
              "      <td>[2016, 2018]</td>\n",
              "    </tr>\n",
              "    <tr>\n",
              "      <th>3</th>\n",
              "      <td>FBI Russia probe helped by Australian diplomat...</td>\n",
              "      <td>WASHINGTON (Reuters) - Trump campaign adviser ...</td>\n",
              "      <td>politicsNews</td>\n",
              "      <td>December 30, 2017</td>\n",
              "      <td>0</td>\n",
              "      <td>376</td>\n",
              "      <td>2085</td>\n",
              "      <td>0</td>\n",
              "      <td>0</td>\n",
              "      <td>[2016, 30, 2016]</td>\n",
              "    </tr>\n",
              "    <tr>\n",
              "      <th>4</th>\n",
              "      <td>Trump wants Postal Service to charge 'much mor...</td>\n",
              "      <td>SEATTLE/WASHINGTON (Reuters) - President Donal...</td>\n",
              "      <td>politicsNews</td>\n",
              "      <td>December 29, 2017</td>\n",
              "      <td>0</td>\n",
              "      <td>852</td>\n",
              "      <td>4341</td>\n",
              "      <td>0</td>\n",
              "      <td>0</td>\n",
              "      <td>[2, 2015, 11, 5, 46, 0, 86, 1, 175, 90, 62, 3,...</td>\n",
              "    </tr>\n",
              "  </tbody>\n",
              "</table>\n",
              "</div>"
            ],
            "text/plain": [
              "                                               title  ...                                       digits_count\n",
              "0  As U.S. budget fight looms, Republicans flip t...  ...  [2018, 7, 10, 11, 1, 5, 10, 20, 1, 5, 30, 2018...\n",
              "1  U.S. military to accept transgender recruits o...  ...                 [1, 21, 1, 8, 1, 1, 2017, 1, 2018]\n",
              "2  Senior U.S. Republican senator: 'Let Mr. Muell...  ...                                       [2016, 2018]\n",
              "3  FBI Russia probe helped by Australian diplomat...  ...                                   [2016, 30, 2016]\n",
              "4  Trump wants Postal Service to charge 'much mor...  ...  [2, 2015, 11, 5, 46, 0, 86, 1, 175, 90, 62, 3,...\n",
              "\n",
              "[5 rows x 10 columns]"
            ]
          },
          "metadata": {},
          "execution_count": 28
        }
      ]
    },
    {
      "cell_type": "markdown",
      "source": [
        "# EDA"
      ],
      "metadata": {
        "id": "NLBOU_U3hYyI"
      }
    },
    {
      "cell_type": "code",
      "source": [
        "plt.style.use('ggplot')\n",
        "\n",
        "plt.rcParams['figure.figsize'] = [8,4]\n",
        "plt.rcParams['figure.dpi'] = 120"
      ],
      "metadata": {
        "execution": {
          "iopub.status.busy": "2021-12-10T04:39:32.651811Z",
          "iopub.execute_input": "2021-12-10T04:39:32.652479Z",
          "iopub.status.idle": "2021-12-10T04:39:32.668430Z",
          "shell.execute_reply.started": "2021-12-10T04:39:32.652443Z",
          "shell.execute_reply": "2021-12-10T04:39:32.667771Z"
        },
        "trusted": true,
        "id": "4H8y6kxEhYyI"
      },
      "execution_count": 29,
      "outputs": []
    },
    {
      "cell_type": "code",
      "source": [
        "# Value count on sns.countplot\n",
        "\n",
        "sns.countplot('target', data=data)\n",
        "plt.title('Counts')"
      ],
      "metadata": {
        "execution": {
          "iopub.status.busy": "2021-12-10T04:39:32.669446Z",
          "iopub.execute_input": "2021-12-10T04:39:32.670022Z",
          "iopub.status.idle": "2021-12-10T04:39:32.928252Z",
          "shell.execute_reply.started": "2021-12-10T04:39:32.669986Z",
          "shell.execute_reply": "2021-12-10T04:39:32.927439Z"
        },
        "trusted": true,
        "colab": {
          "base_uri": "https://localhost:8080/",
          "height": 559
        },
        "id": "V5YfmfuXhYyJ",
        "outputId": "a836d9cd-faa1-4255-c5ad-b0b0c69c4d0b"
      },
      "execution_count": 30,
      "outputs": [
        {
          "output_type": "stream",
          "name": "stderr",
          "text": [
            "/usr/local/lib/python3.7/dist-packages/seaborn/_decorators.py:43: FutureWarning: Pass the following variable as a keyword arg: x. From version 0.12, the only valid positional argument will be `data`, and passing other arguments without an explicit keyword will result in an error or misinterpretation.\n",
            "  FutureWarning\n"
          ]
        },
        {
          "output_type": "execute_result",
          "data": {
            "text/plain": [
              "Text(0.5, 1.0, 'Counts')"
            ]
          },
          "metadata": {},
          "execution_count": 30
        },
        {
          "output_type": "display_data",
          "data": {
            "image/png": "[encoded data removed]",
            "text/plain": [
              "<Figure size 960x480 with 1 Axes>"
            ]
          },
          "metadata": {}
        }
      ]
    },
    {
      "cell_type": "code",
      "source": [
        "sns.catplot(x='target', y='words_count', kind='bar', data=data)\n",
        "plt.xlabel('0 - True news  ||  Fake news - 1')\n",
        "plt.title('Correlation between number of words and target')"
      ],
      "metadata": {
        "execution": {
          "iopub.status.busy": "2021-12-10T04:39:32.929422Z",
          "iopub.execute_input": "2021-12-10T04:39:32.929667Z",
          "iopub.status.idle": "2021-12-10T04:39:33.589830Z",
          "shell.execute_reply.started": "2021-12-10T04:39:32.929638Z",
          "shell.execute_reply": "2021-12-10T04:39:33.588788Z"
        },
        "trusted": true,
        "colab": {
          "base_uri": "https://localhost:8080/",
          "height": 652
        },
        "id": "9YVO3qnXhYyK",
        "outputId": "ea6d8295-43c4-4da8-8109-9c214ef40968"
      },
      "execution_count": 31,
      "outputs": [
        {
          "output_type": "execute_result",
          "data": {
            "text/plain": [
              "Text(0.5, 1.0, 'Correlation between number of words and target')"
            ]
          },
          "metadata": {},
          "execution_count": 31
        },
        {
          "output_type": "display_data",
          "data": {
            "image/png": "[encoded data removed]",
            "text/plain": [
              "<Figure size 600x600 with 1 Axes>"
            ]
          },
          "metadata": {}
        }
      ]
    },
    {
      "cell_type": "code",
      "source": [
        "# As we can see, fake news have more words count"
      ],
      "metadata": {
        "execution": {
          "iopub.status.busy": "2021-12-10T04:39:33.591214Z",
          "iopub.execute_input": "2021-12-10T04:39:33.591537Z",
          "iopub.status.idle": "2021-12-10T04:39:33.595796Z",
          "shell.execute_reply.started": "2021-12-10T04:39:33.591496Z",
          "shell.execute_reply": "2021-12-10T04:39:33.594897Z"
        },
        "trusted": true,
        "id": "GvSpOmUnhYyL"
      },
      "execution_count": 32,
      "outputs": []
    },
    {
      "cell_type": "code",
      "source": [
        "sns.catplot(x='target', y='hashtags_count', kind='bar', data=data)\n",
        "plt.xlabel('0 - True news  ||  Fake news - 1')\n",
        "plt.title('Correlation between hashtags and target')"
      ],
      "metadata": {
        "execution": {
          "iopub.status.busy": "2021-12-10T04:39:33.597127Z",
          "iopub.execute_input": "2021-12-10T04:39:33.597671Z",
          "iopub.status.idle": "2021-12-10T04:39:34.270476Z",
          "shell.execute_reply.started": "2021-12-10T04:39:33.597635Z",
          "shell.execute_reply": "2021-12-10T04:39:34.269614Z"
        },
        "trusted": true,
        "colab": {
          "base_uri": "https://localhost:8080/",
          "height": 652
        },
        "id": "UyKVFlMahYyM",
        "outputId": "dd1bc4f2-32de-410b-c2eb-0b696f245f49"
      },
      "execution_count": 33,
      "outputs": [
        {
          "output_type": "execute_result",
          "data": {
            "text/plain": [
              "Text(0.5, 1.0, 'Correlation between hashtags and target')"
            ]
          },
          "metadata": {},
          "execution_count": 33
        },
        {
          "output_type": "display_data",
          "data": {
            "image/png": "[encoded data removed]",
            "text/plain": [
              "<Figure size 600x600 with 1 Axes>"
            ]
          },
          "metadata": {}
        }
      ]
    },
    {
      "cell_type": "code",
      "source": [
        "sns.catplot(x='target', y='email_counts', kind='bar', data=data)\n",
        "plt.xlabel('0 - True news  ||  Fake news - 1')\n",
        "plt.title('Correlation between email and target')"
      ],
      "metadata": {
        "execution": {
          "iopub.status.busy": "2021-12-10T04:39:34.276434Z",
          "iopub.execute_input": "2021-12-10T04:39:34.276702Z",
          "iopub.status.idle": "2021-12-10T04:39:34.931818Z",
          "shell.execute_reply.started": "2021-12-10T04:39:34.276671Z",
          "shell.execute_reply": "2021-12-10T04:39:34.931201Z"
        },
        "trusted": true,
        "colab": {
          "base_uri": "https://localhost:8080/",
          "height": 652
        },
        "id": "sKpjd6gLhYyM",
        "outputId": "c0a249b0-abcd-4b6a-b909-80f79b3327e9"
      },
      "execution_count": 34,
      "outputs": [
        {
          "output_type": "execute_result",
          "data": {
            "text/plain": [
              "Text(0.5, 1.0, 'Correlation between email and target')"
            ]
          },
          "metadata": {},
          "execution_count": 34
        },
        {
          "output_type": "display_data",
          "data": {
            "image/png": "[encoded data removed]",
            "text/plain": [
              "<Figure size 600x600 with 1 Axes>"
            ]
          },
          "metadata": {}
        }
      ]
    },
    {
      "cell_type": "code",
      "source": [
        "plt.rcParams['figure.figsize'] = [12,8]\n",
        "\n",
        "sns.catplot(x='target', y='words_count', kind='bar', data=data, hue='subject')\n",
        "plt.xlabel('0 - True news  ||  Fake news - 1')"
      ],
      "metadata": {
        "execution": {
          "iopub.status.busy": "2021-12-10T04:39:34.933029Z",
          "iopub.execute_input": "2021-12-10T04:39:34.933420Z",
          "iopub.status.idle": "2021-12-10T04:39:36.053674Z",
          "shell.execute_reply.started": "2021-12-10T04:39:34.933374Z",
          "shell.execute_reply": "2021-12-10T04:39:36.052799Z"
        },
        "trusted": true,
        "colab": {
          "base_uri": "https://localhost:8080/",
          "height": 622
        },
        "id": "pB5sHHXphYyM",
        "outputId": "3042bf1d-d313-4c02-c3d1-e97dd4de26a4"
      },
      "execution_count": 35,
      "outputs": [
        {
          "output_type": "execute_result",
          "data": {
            "text/plain": [
              "Text(0.5, 37.000000000000014, '0 - True news  ||  Fake news - 1')"
            ]
          },
          "metadata": {},
          "execution_count": 35
        },
        {
          "output_type": "display_data",
          "data": {
            "image/png": "[encoded data removed]",
            "text/plain": [
              "<Figure size 814.125x600 with 1 Axes>"
            ]
          },
          "metadata": {}
        }
      ]
    },
    {
      "cell_type": "markdown",
      "source": [
        "# Data Cleaning"
      ],
      "metadata": {
        "id": "THDbGVOzhYyM"
      }
    },
    {
      "cell_type": "code",
      "source": [
        "data['text'][1]"
      ],
      "metadata": {
        "execution": {
          "iopub.status.busy": "2021-12-10T04:39:36.055205Z",
          "iopub.execute_input": "2021-12-10T04:39:36.056067Z",
          "iopub.status.idle": "2021-12-10T04:39:36.062047Z",
          "shell.execute_reply.started": "2021-12-10T04:39:36.056027Z",
          "shell.execute_reply": "2021-12-10T04:39:36.061152Z"
        },
        "trusted": true,
        "colab": {
          "base_uri": "https://localhost:8080/",
          "height": 122
        },
        "id": "jCsGpv8yhYyN",
        "outputId": "1e8a7ada-87ba-43bf-b23f-44af5f78533c"
      },
      "execution_count": 36,
      "outputs": [
        {
          "output_type": "execute_result",
          "data": {
            "application/vnd.google.colaboratory.intrinsic+json": {
              "type": "string"
            },
            "text/plain": [
              "'WASHINGTON (Reuters) - Transgender people will be allowed for the first time to enlist in the U.S. military starting on Monday as ordered by federal courts, the Pentagon said on Friday, after President Donald Trump’s administration decided not to appeal rulings that blocked his transgender ban. Two federal appeals courts, one in Washington and one in Virginia, last week rejected the administration’s request to put on hold orders by lower court judges requiring the military to begin accepting transgender recruits on Jan. 1. A Justice Department official said the administration will not challenge those rulings. “The Department of Defense has announced that it will be releasing an independent study of these issues in the coming weeks. So rather than litigate this interim appeal before that occurs, the administration has decided to wait for DOD’s study and will continue to defend the president’s lawful authority in District Court in the meantime,” the official said, speaking on condition of anonymity. In September, the Pentagon said it had created a panel of senior officials to study how to implement a directive by Trump to prohibit transgender individuals from serving. The Defense Department has until Feb. 21 to submit a plan to Trump. Lawyers representing currently-serving transgender service members and aspiring recruits said they had expected the administration to appeal the rulings to the conservative-majority Supreme Court, but were hoping that would not happen. Pentagon spokeswoman Heather Babb said in a statement: “As mandated by court order, the Department of Defense is prepared to begin accessing transgender applicants for military service Jan. 1. All applicants must meet all accession standards.” Jennifer Levi, a lawyer with gay, lesbian and transgender advocacy group GLAD, called the decision not to appeal “great news.” “I’m hoping it means the government has come to see that there is no way to justify a ban and that it’s not good for the military or our country,” Levi said. Both GLAD and the American Civil Liberties Union represent plaintiffs in the lawsuits filed against the administration. In a move that appealed to his hard-line conservative supporters, Trump announced in July that he would prohibit transgender people from serving in the military, reversing Democratic President Barack Obama’s policy of accepting them. Trump said on Twitter at the time that the military “cannot be burdened with the tremendous medical costs and disruption that transgender in the military would entail.” Four federal judges - in Baltimore, Washington, D.C., Seattle and Riverside, California - have issued rulings blocking Trump’s ban while legal challenges to the Republican president’s policy proceed. The judges said the ban would likely violate the right under the U.S. Constitution to equal protection under the law. The Pentagon on Dec. 8 issued guidelines to recruitment personnel in order to enlist transgender applicants by Jan. 1. The memo outlined medical requirements and specified how the applicants’ sex would be identified and even which undergarments they would wear. The Trump administration previously said in legal papers that the armed forces were not prepared to train thousands of personnel on the medical standards needed to process transgender applicants and might have to accept “some individuals who are not medically fit for service.” The Obama administration had set a deadline of July 1, 2017, to begin accepting transgender recruits. But Trump’s defense secretary, James Mattis, postponed that date to Jan. 1, 2018, which the president’s ban then put off indefinitely. Trump has taken other steps aimed at rolling back transgender rights. In October, his administration said a federal law banning gender-based workplace discrimination does not protect transgender employees, reversing another Obama-era position. In February, Trump rescinded guidance issued by the Obama administration saying that public schools should allow transgender students to use the restroom that corresponds to their gender identity. '"
            ]
          },
          "metadata": {},
          "execution_count": 36
        }
      ]
    },
    {
      "cell_type": "code",
      "source": [
        "import nltk\n",
        "from nltk.tokenize import word_tokenize\n",
        "from nltk.corpus import stopwords\n",
        "from nltk.stem import WordNetLemmatizer\n",
        "from nltk.stem.snowball import SnowballStemmer\n",
        "from nltk.stem.porter import *\n",
        "\n",
        "p_stemming = PorterStemmer()"
      ],
      "metadata": {
        "execution": {
          "iopub.status.busy": "2021-12-10T04:39:36.063446Z",
          "iopub.execute_input": "2021-12-10T04:39:36.064115Z",
          "iopub.status.idle": "2021-12-10T04:39:36.073153Z",
          "shell.execute_reply.started": "2021-12-10T04:39:36.064071Z",
          "shell.execute_reply": "2021-12-10T04:39:36.072517Z"
        },
        "trusted": true,
        "id": "Ger1r0EIhYyN"
      },
      "execution_count": 37,
      "outputs": []
    },
    {
      "cell_type": "code",
      "source": [
        "def nltk_process(data):\n",
        "    # Tokenization\n",
        "    tokenList = word_tokenize(data)\n",
        "    \n",
        "    # Stemming\n",
        "    stemedList = []\n",
        "    for word in tokenList:\n",
        "        stemedList.append(p_stemming.stem(word))\n",
        "\n",
        "    # Lemmatization\n",
        "    wordnet_lemmatizer = WordNetLemmatizer()\n",
        "    lemmaList = []\n",
        "    for word in stemedList:\n",
        "        lemmaList.append(wordnet_lemmatizer.lemmatize(word))\n",
        "        \n",
        "    # Stopwords\n",
        "    filtered_words = []\n",
        "    nltk_stop_words = set(stopwords.words(\"english\"))\n",
        "    for word in lemmaList:\n",
        "        if word not in nltk_stop_words:\n",
        "            filtered_words.append(word)\n",
        "    \n",
        "    # Remove punct.\n",
        "    \n",
        "    for word in filtered_words:\n",
        "        if word in string.punctuation:\n",
        "            filtered_words.remove(word)\n",
        "    \n",
        "    return filtered_words"
      ],
      "metadata": {
        "execution": {
          "iopub.status.busy": "2021-12-10T04:39:36.074332Z",
          "iopub.execute_input": "2021-12-10T04:39:36.074746Z",
          "iopub.status.idle": "2021-12-10T04:39:36.085905Z",
          "shell.execute_reply.started": "2021-12-10T04:39:36.074715Z",
          "shell.execute_reply": "2021-12-10T04:39:36.085322Z"
        },
        "trusted": true,
        "id": "Dg7-6aB2hYyN"
      },
      "execution_count": 38,
      "outputs": []
    },
    {
      "cell_type": "code",
      "source": [
        "data['text'][1]"
      ],
      "metadata": {
        "execution": {
          "iopub.status.busy": "2021-12-10T04:39:36.087119Z",
          "iopub.execute_input": "2021-12-10T04:39:36.087518Z",
          "iopub.status.idle": "2021-12-10T04:39:36.099181Z",
          "shell.execute_reply.started": "2021-12-10T04:39:36.087488Z",
          "shell.execute_reply": "2021-12-10T04:39:36.098319Z"
        },
        "trusted": true,
        "colab": {
          "base_uri": "https://localhost:8080/",
          "height": 122
        },
        "id": "eZMeEtdIhYyO",
        "outputId": "09964e30-89fd-42a6-a4bd-a240c14494f8"
      },
      "execution_count": 39,
      "outputs": [
        {
          "output_type": "execute_result",
          "data": {
            "application/vnd.google.colaboratory.intrinsic+json": {
              "type": "string"
            },
            "text/plain": [
              "'WASHINGTON (Reuters) - Transgender people will be allowed for the first time to enlist in the U.S. military starting on Monday as ordered by federal courts, the Pentagon said on Friday, after President Donald Trump’s administration decided not to appeal rulings that blocked his transgender ban. Two federal appeals courts, one in Washington and one in Virginia, last week rejected the administration’s request to put on hold orders by lower court judges requiring the military to begin accepting transgender recruits on Jan. 1. A Justice Department official said the administration will not challenge those rulings. “The Department of Defense has announced that it will be releasing an independent study of these issues in the coming weeks. So rather than litigate this interim appeal before that occurs, the administration has decided to wait for DOD’s study and will continue to defend the president’s lawful authority in District Court in the meantime,” the official said, speaking on condition of anonymity. In September, the Pentagon said it had created a panel of senior officials to study how to implement a directive by Trump to prohibit transgender individuals from serving. The Defense Department has until Feb. 21 to submit a plan to Trump. Lawyers representing currently-serving transgender service members and aspiring recruits said they had expected the administration to appeal the rulings to the conservative-majority Supreme Court, but were hoping that would not happen. Pentagon spokeswoman Heather Babb said in a statement: “As mandated by court order, the Department of Defense is prepared to begin accessing transgender applicants for military service Jan. 1. All applicants must meet all accession standards.” Jennifer Levi, a lawyer with gay, lesbian and transgender advocacy group GLAD, called the decision not to appeal “great news.” “I’m hoping it means the government has come to see that there is no way to justify a ban and that it’s not good for the military or our country,” Levi said. Both GLAD and the American Civil Liberties Union represent plaintiffs in the lawsuits filed against the administration. In a move that appealed to his hard-line conservative supporters, Trump announced in July that he would prohibit transgender people from serving in the military, reversing Democratic President Barack Obama’s policy of accepting them. Trump said on Twitter at the time that the military “cannot be burdened with the tremendous medical costs and disruption that transgender in the military would entail.” Four federal judges - in Baltimore, Washington, D.C., Seattle and Riverside, California - have issued rulings blocking Trump’s ban while legal challenges to the Republican president’s policy proceed. The judges said the ban would likely violate the right under the U.S. Constitution to equal protection under the law. The Pentagon on Dec. 8 issued guidelines to recruitment personnel in order to enlist transgender applicants by Jan. 1. The memo outlined medical requirements and specified how the applicants’ sex would be identified and even which undergarments they would wear. The Trump administration previously said in legal papers that the armed forces were not prepared to train thousands of personnel on the medical standards needed to process transgender applicants and might have to accept “some individuals who are not medically fit for service.” The Obama administration had set a deadline of July 1, 2017, to begin accepting transgender recruits. But Trump’s defense secretary, James Mattis, postponed that date to Jan. 1, 2018, which the president’s ban then put off indefinitely. Trump has taken other steps aimed at rolling back transgender rights. In October, his administration said a federal law banning gender-based workplace discrimination does not protect transgender employees, reversing another Obama-era position. In February, Trump rescinded guidance issued by the Obama administration saying that public schools should allow transgender students to use the restroom that corresponds to their gender identity. '"
            ]
          },
          "metadata": {},
          "execution_count": 39
        }
      ]
    },
    {
      "cell_type": "code",
      "source": [
        "import nltk\n",
        "nltk.download('punkt')\n",
        "nltk.download('wordnet')\n",
        "nltk.download('stopwords')\n",
        "data['text'] = data['text'].apply(lambda x: nltk_process(x))"
      ],
      "metadata": {
        "execution": {
          "iopub.status.busy": "2021-12-10T04:39:36.100463Z",
          "iopub.execute_input": "2021-12-10T04:39:36.101720Z",
          "iopub.status.idle": "2021-12-10T04:53:40.577396Z",
          "shell.execute_reply.started": "2021-12-10T04:39:36.101675Z",
          "shell.execute_reply": "2021-12-10T04:53:40.575727Z"
        },
        "trusted": true,
        "colab": {
          "base_uri": "https://localhost:8080/"
        },
        "id": "HJS4wUKrhYyQ",
        "outputId": "e5ef7df6-d23c-4e77-b35a-ef885bd12b02"
      },
      "execution_count": 50,
      "outputs": [
        {
          "output_type": "stream",
          "name": "stdout",
          "text": [
            "[nltk_data] Downloading package punkt to /root/nltk_data...\n",
            "[nltk_data]   Package punkt is already up-to-date!\n",
            "[nltk_data] Downloading package wordnet to /root/nltk_data...\n",
            "[nltk_data]   Package wordnet is already up-to-date!\n",
            "[nltk_data] Downloading package stopwords to /root/nltk_data...\n",
            "[nltk_data]   Unzipping corpora/stopwords.zip.\n"
          ]
        }
      ]
    },
    {
      "cell_type": "code",
      "source": [
        "data['text'][1]"
      ],
      "metadata": {
        "execution": {
          "iopub.status.busy": "2021-12-10T04:53:40.578971Z",
          "iopub.execute_input": "2021-12-10T04:53:40.579270Z",
          "iopub.status.idle": "2021-12-10T04:53:40.595408Z",
          "shell.execute_reply.started": "2021-12-10T04:53:40.579228Z",
          "shell.execute_reply": "2021-12-10T04:53:40.594404Z"
        },
        "trusted": true,
        "colab": {
          "base_uri": "https://localhost:8080/"
        },
        "id": "BHCDMkqqhYyR",
        "outputId": "a41a3b6a-3fe4-4394-9d47-2ea7257fcd2d"
      },
      "execution_count": 51,
      "outputs": [
        {
          "output_type": "execute_result",
          "data": {
            "text/plain": [
              "['washington',\n",
              " 'reuter',\n",
              " 'transgend',\n",
              " 'peopl',\n",
              " 'allow',\n",
              " 'first',\n",
              " 'time',\n",
              " 'enlist',\n",
              " 'u.s.',\n",
              " 'militari',\n",
              " 'start',\n",
              " 'monday',\n",
              " 'order',\n",
              " 'feder',\n",
              " 'court',\n",
              " 'pentagon',\n",
              " 'said',\n",
              " 'friday',\n",
              " 'presid',\n",
              " 'donald',\n",
              " 'trump',\n",
              " '’',\n",
              " 'administr',\n",
              " 'decid',\n",
              " 'appeal',\n",
              " 'rule',\n",
              " 'block',\n",
              " 'hi',\n",
              " 'transgend',\n",
              " 'ban',\n",
              " 'two',\n",
              " 'feder',\n",
              " 'appeal',\n",
              " 'court',\n",
              " 'one',\n",
              " 'washington',\n",
              " 'one',\n",
              " 'virginia',\n",
              " 'last',\n",
              " 'week',\n",
              " 'reject',\n",
              " 'administr',\n",
              " '’',\n",
              " 'request',\n",
              " 'put',\n",
              " 'hold',\n",
              " 'order',\n",
              " 'lower',\n",
              " 'court',\n",
              " 'judg',\n",
              " 'requir',\n",
              " 'militari',\n",
              " 'begin',\n",
              " 'accept',\n",
              " 'transgend',\n",
              " 'recruit',\n",
              " 'jan.',\n",
              " '1',\n",
              " 'A',\n",
              " 'justic',\n",
              " 'depart',\n",
              " 'offici',\n",
              " 'said',\n",
              " 'administr',\n",
              " 'challeng',\n",
              " 'rule',\n",
              " '“',\n",
              " 'depart',\n",
              " 'defens',\n",
              " 'ha',\n",
              " 'announc',\n",
              " 'releas',\n",
              " 'independ',\n",
              " 'studi',\n",
              " 'issu',\n",
              " 'come',\n",
              " 'week',\n",
              " 'So',\n",
              " 'rather',\n",
              " 'litig',\n",
              " 'thi',\n",
              " 'interim',\n",
              " 'appeal',\n",
              " 'befor',\n",
              " 'occur',\n",
              " 'administr',\n",
              " 'ha',\n",
              " 'decid',\n",
              " 'wait',\n",
              " 'dod',\n",
              " '’',\n",
              " 'studi',\n",
              " 'continu',\n",
              " 'defend',\n",
              " 'presid',\n",
              " '’',\n",
              " 'law',\n",
              " 'author',\n",
              " 'district',\n",
              " 'court',\n",
              " 'meantim',\n",
              " '”',\n",
              " 'offici',\n",
              " 'said',\n",
              " 'speak',\n",
              " 'condit',\n",
              " 'anonym',\n",
              " 'In',\n",
              " 'septemb',\n",
              " 'pentagon',\n",
              " 'said',\n",
              " 'creat',\n",
              " 'panel',\n",
              " 'senior',\n",
              " 'offici',\n",
              " 'studi',\n",
              " 'implement',\n",
              " 'direct',\n",
              " 'trump',\n",
              " 'prohibit',\n",
              " 'transgend',\n",
              " 'individu',\n",
              " 'serv',\n",
              " 'defens',\n",
              " 'depart',\n",
              " 'ha',\n",
              " 'feb.',\n",
              " '21',\n",
              " 'submit',\n",
              " 'plan',\n",
              " 'trump',\n",
              " 'lawyer',\n",
              " 'repres',\n",
              " 'currently-serv',\n",
              " 'transgend',\n",
              " 'servic',\n",
              " 'member',\n",
              " 'aspir',\n",
              " 'recruit',\n",
              " 'said',\n",
              " 'expect',\n",
              " 'administr',\n",
              " 'appeal',\n",
              " 'rule',\n",
              " 'conservative-major',\n",
              " 'suprem',\n",
              " 'court',\n",
              " 'hope',\n",
              " 'would',\n",
              " 'happen',\n",
              " 'pentagon',\n",
              " 'spokeswoman',\n",
              " 'heather',\n",
              " 'babb',\n",
              " 'said',\n",
              " 'statement',\n",
              " '“',\n",
              " 'As',\n",
              " 'mandat',\n",
              " 'court',\n",
              " 'order',\n",
              " 'depart',\n",
              " 'defens',\n",
              " 'prepar',\n",
              " 'begin',\n",
              " 'access',\n",
              " 'transgend',\n",
              " 'applic',\n",
              " 'militari',\n",
              " 'servic',\n",
              " 'jan.',\n",
              " '1',\n",
              " 'applic',\n",
              " 'must',\n",
              " 'meet',\n",
              " 'access',\n",
              " 'standards.',\n",
              " '”',\n",
              " 'jennif',\n",
              " 'levi',\n",
              " 'lawyer',\n",
              " 'gay',\n",
              " 'lesbian',\n",
              " 'transgend',\n",
              " 'advocaci',\n",
              " 'group',\n",
              " 'glad',\n",
              " 'call',\n",
              " 'decis',\n",
              " 'appeal',\n",
              " '“',\n",
              " 'great',\n",
              " 'news.',\n",
              " '”',\n",
              " '“',\n",
              " 'I',\n",
              " '’',\n",
              " 'hope',\n",
              " 'mean',\n",
              " 'govern',\n",
              " 'ha',\n",
              " 'come',\n",
              " 'see',\n",
              " 'way',\n",
              " 'justifi',\n",
              " 'ban',\n",
              " '’',\n",
              " 'good',\n",
              " 'militari',\n",
              " 'countri',\n",
              " '”',\n",
              " 'levi',\n",
              " 'said',\n",
              " 'glad',\n",
              " 'american',\n",
              " 'civil',\n",
              " 'liberti',\n",
              " 'union',\n",
              " 'repres',\n",
              " 'plaintiff',\n",
              " 'lawsuit',\n",
              " 'file',\n",
              " 'administr',\n",
              " 'In',\n",
              " 'move',\n",
              " 'appeal',\n",
              " 'hi',\n",
              " 'hard-lin',\n",
              " 'conserv',\n",
              " 'support',\n",
              " 'trump',\n",
              " 'announc',\n",
              " 'juli',\n",
              " 'would',\n",
              " 'prohibit',\n",
              " 'transgend',\n",
              " 'peopl',\n",
              " 'serv',\n",
              " 'militari',\n",
              " 'revers',\n",
              " 'democrat',\n",
              " 'presid',\n",
              " 'barack',\n",
              " 'obama',\n",
              " '’',\n",
              " 'polici',\n",
              " 'accept',\n",
              " 'trump',\n",
              " 'said',\n",
              " 'twitter',\n",
              " 'time',\n",
              " 'militari',\n",
              " '“',\n",
              " 'burden',\n",
              " 'tremend',\n",
              " 'medic',\n",
              " 'cost',\n",
              " 'disrupt',\n",
              " 'transgend',\n",
              " 'militari',\n",
              " 'would',\n",
              " 'entail.',\n",
              " '”',\n",
              " 'four',\n",
              " 'feder',\n",
              " 'judg',\n",
              " 'baltimor',\n",
              " 'washington',\n",
              " 'd.c.',\n",
              " 'seattl',\n",
              " 'riversid',\n",
              " 'california',\n",
              " '-',\n",
              " 'issu',\n",
              " 'rule',\n",
              " 'block',\n",
              " 'trump',\n",
              " '’',\n",
              " 'ban',\n",
              " 'legal',\n",
              " 'challeng',\n",
              " 'republican',\n",
              " 'presid',\n",
              " '’',\n",
              " 'polici',\n",
              " 'proceed',\n",
              " 'judg',\n",
              " 'said',\n",
              " 'ban',\n",
              " 'would',\n",
              " 'like',\n",
              " 'violat',\n",
              " 'right',\n",
              " 'u.s.',\n",
              " 'constitut',\n",
              " 'equal',\n",
              " 'protect',\n",
              " 'law',\n",
              " 'pentagon',\n",
              " 'dec.',\n",
              " '8',\n",
              " 'issu',\n",
              " 'guidelin',\n",
              " 'recruit',\n",
              " 'personnel',\n",
              " 'order',\n",
              " 'enlist',\n",
              " 'transgend',\n",
              " 'applic',\n",
              " 'jan.',\n",
              " '1',\n",
              " 'memo',\n",
              " 'outlin',\n",
              " 'medic',\n",
              " 'requir',\n",
              " 'specifi',\n",
              " 'applic',\n",
              " '’',\n",
              " 'sex',\n",
              " 'would',\n",
              " 'identifi',\n",
              " 'even',\n",
              " 'undergar',\n",
              " 'would',\n",
              " 'wear',\n",
              " 'trump',\n",
              " 'administr',\n",
              " 'previous',\n",
              " 'said',\n",
              " 'legal',\n",
              " 'paper',\n",
              " 'arm',\n",
              " 'forc',\n",
              " 'prepar',\n",
              " 'train',\n",
              " 'thousand',\n",
              " 'personnel',\n",
              " 'medic',\n",
              " 'standard',\n",
              " 'need',\n",
              " 'process',\n",
              " 'transgend',\n",
              " 'applic',\n",
              " 'might',\n",
              " 'accept',\n",
              " '“',\n",
              " 'individu',\n",
              " 'medic',\n",
              " 'fit',\n",
              " 'service.',\n",
              " '”',\n",
              " 'obama',\n",
              " 'administr',\n",
              " 'set',\n",
              " 'deadlin',\n",
              " 'juli',\n",
              " '1',\n",
              " '2017',\n",
              " 'begin',\n",
              " 'accept',\n",
              " 'transgend',\n",
              " 'recruit',\n",
              " 'trump',\n",
              " '’',\n",
              " 'defens',\n",
              " 'secretari',\n",
              " 'jame',\n",
              " 'matti',\n",
              " 'postpon',\n",
              " 'date',\n",
              " 'jan.',\n",
              " '1',\n",
              " '2018',\n",
              " 'presid',\n",
              " '’',\n",
              " 'ban',\n",
              " 'put',\n",
              " 'indefinit',\n",
              " 'trump',\n",
              " 'ha',\n",
              " 'taken',\n",
              " 'step',\n",
              " 'aim',\n",
              " 'roll',\n",
              " 'back',\n",
              " 'transgend',\n",
              " 'right',\n",
              " 'In',\n",
              " 'octob',\n",
              " 'hi',\n",
              " 'administr',\n",
              " 'said',\n",
              " 'feder',\n",
              " 'law',\n",
              " 'ban',\n",
              " 'gender-bas',\n",
              " 'workplac',\n",
              " 'discrimin',\n",
              " 'doe',\n",
              " 'protect',\n",
              " 'transgend',\n",
              " 'employe',\n",
              " 'revers',\n",
              " 'anoth',\n",
              " 'obama-era',\n",
              " 'posit',\n",
              " 'In',\n",
              " 'februari',\n",
              " 'trump',\n",
              " 'rescind',\n",
              " 'guidanc',\n",
              " 'issu',\n",
              " 'obama',\n",
              " 'administr',\n",
              " 'say',\n",
              " 'public',\n",
              " 'school',\n",
              " 'allow',\n",
              " 'transgend',\n",
              " 'student',\n",
              " 'use',\n",
              " 'restroom',\n",
              " 'correspond',\n",
              " 'gender',\n",
              " 'ident']"
            ]
          },
          "metadata": {},
          "execution_count": 51
        }
      ]
    },
    {
      "cell_type": "code",
      "source": [
        "type(data['text'][1])"
      ],
      "metadata": {
        "execution": {
          "iopub.status.busy": "2021-12-10T04:53:40.596748Z",
          "iopub.execute_input": "2021-12-10T04:53:40.597071Z",
          "iopub.status.idle": "2021-12-10T04:53:40.611348Z",
          "shell.execute_reply.started": "2021-12-10T04:53:40.597037Z",
          "shell.execute_reply": "2021-12-10T04:53:40.610763Z"
        },
        "trusted": true,
        "colab": {
          "base_uri": "https://localhost:8080/"
        },
        "id": "lmWulBFthYyR",
        "outputId": "9e89b504-1cf1-4bf7-d6c2-eb315890cfe5"
      },
      "execution_count": 52,
      "outputs": [
        {
          "output_type": "execute_result",
          "data": {
            "text/plain": [
              "list"
            ]
          },
          "metadata": {},
          "execution_count": 52
        }
      ]
    },
    {
      "cell_type": "code",
      "source": [
        "data['text'] = [\" \".join(text) for text in data['text'].values]"
      ],
      "metadata": {
        "execution": {
          "iopub.status.busy": "2021-12-10T04:53:40.612661Z",
          "iopub.execute_input": "2021-12-10T04:53:40.612892Z",
          "iopub.status.idle": "2021-12-10T04:53:41.587425Z",
          "shell.execute_reply.started": "2021-12-10T04:53:40.612863Z",
          "shell.execute_reply": "2021-12-10T04:53:41.586612Z"
        },
        "trusted": true,
        "id": "do6CukWzhYyS"
      },
      "execution_count": 53,
      "outputs": []
    },
    {
      "cell_type": "code",
      "source": [
        "data['text'][1]"
      ],
      "metadata": {
        "execution": {
          "iopub.status.busy": "2021-12-10T04:53:41.589720Z",
          "iopub.execute_input": "2021-12-10T04:53:41.589957Z",
          "iopub.status.idle": "2021-12-10T04:53:41.596341Z",
          "shell.execute_reply.started": "2021-12-10T04:53:41.589928Z",
          "shell.execute_reply": "2021-12-10T04:53:41.595534Z"
        },
        "trusted": true,
        "colab": {
          "base_uri": "https://localhost:8080/",
          "height": 122
        },
        "id": "7nci_1ukhYyS",
        "outputId": "16bdfe07-8188-40d9-b19d-d03fcf42df24"
      },
      "execution_count": 54,
      "outputs": [
        {
          "output_type": "execute_result",
          "data": {
            "application/vnd.google.colaboratory.intrinsic+json": {
              "type": "string"
            },
            "text/plain": [
              "'washington reuter transgend peopl allow first time enlist u.s. militari start monday order feder court pentagon said friday presid donald trump ’ administr decid appeal rule block hi transgend ban two feder appeal court one washington one virginia last week reject administr ’ request put hold order lower court judg requir militari begin accept transgend recruit jan. 1 A justic depart offici said administr challeng rule “ depart defens ha announc releas independ studi issu come week So rather litig thi interim appeal befor occur administr ha decid wait dod ’ studi continu defend presid ’ law author district court meantim ” offici said speak condit anonym In septemb pentagon said creat panel senior offici studi implement direct trump prohibit transgend individu serv defens depart ha feb. 21 submit plan trump lawyer repres currently-serv transgend servic member aspir recruit said expect administr appeal rule conservative-major suprem court hope would happen pentagon spokeswoman heather babb said statement “ As mandat court order depart defens prepar begin access transgend applic militari servic jan. 1 applic must meet access standards. ” jennif levi lawyer gay lesbian transgend advocaci group glad call decis appeal “ great news. ” “ I ’ hope mean govern ha come see way justifi ban ’ good militari countri ” levi said glad american civil liberti union repres plaintiff lawsuit file administr In move appeal hi hard-lin conserv support trump announc juli would prohibit transgend peopl serv militari revers democrat presid barack obama ’ polici accept trump said twitter time militari “ burden tremend medic cost disrupt transgend militari would entail. ” four feder judg baltimor washington d.c. seattl riversid california - issu rule block trump ’ ban legal challeng republican presid ’ polici proceed judg said ban would like violat right u.s. constitut equal protect law pentagon dec. 8 issu guidelin recruit personnel order enlist transgend applic jan. 1 memo outlin medic requir specifi applic ’ sex would identifi even undergar would wear trump administr previous said legal paper arm forc prepar train thousand personnel medic standard need process transgend applic might accept “ individu medic fit service. ” obama administr set deadlin juli 1 2017 begin accept transgend recruit trump ’ defens secretari jame matti postpon date jan. 1 2018 presid ’ ban put indefinit trump ha taken step aim roll back transgend right In octob hi administr said feder law ban gender-bas workplac discrimin doe protect transgend employe revers anoth obama-era posit In februari trump rescind guidanc issu obama administr say public school allow transgend student use restroom correspond gender ident'"
            ]
          },
          "metadata": {},
          "execution_count": 54
        }
      ]
    },
    {
      "cell_type": "markdown",
      "source": [
        "# TF_IDF"
      ],
      "metadata": {
        "id": "q01SexNzhYyT"
      }
    },
    {
      "cell_type": "code",
      "source": [
        "from sklearn.feature_extraction.text import CountVectorizer, TfidfVectorizer\n",
        "from sklearn.model_selection import train_test_split\n",
        "from sklearn.metrics import classification_report, confusion_matrix"
      ],
      "metadata": {
        "execution": {
          "iopub.status.busy": "2021-12-10T04:53:41.597682Z",
          "iopub.execute_input": "2021-12-10T04:53:41.597905Z",
          "iopub.status.idle": "2021-12-10T04:53:41.606520Z",
          "shell.execute_reply.started": "2021-12-10T04:53:41.597878Z",
          "shell.execute_reply": "2021-12-10T04:53:41.605830Z"
        },
        "trusted": true,
        "id": "ZMdsJKrghYyT"
      },
      "execution_count": 55,
      "outputs": []
    },
    {
      "cell_type": "code",
      "source": [
        "tfidf = TfidfVectorizer(lowercase=False, stop_words='english')"
      ],
      "metadata": {
        "execution": {
          "iopub.status.busy": "2021-12-10T04:53:41.607346Z",
          "iopub.execute_input": "2021-12-10T04:53:41.607585Z",
          "iopub.status.idle": "2021-12-10T04:53:41.618315Z",
          "shell.execute_reply.started": "2021-12-10T04:53:41.607531Z",
          "shell.execute_reply": "2021-12-10T04:53:41.617481Z"
        },
        "trusted": true,
        "id": "JBf2ZnughYyT"
      },
      "execution_count": 56,
      "outputs": []
    },
    {
      "cell_type": "code",
      "source": [
        "text = data['text']\n",
        "X = tfidf.fit_transform(text)\n",
        "y = data['target']"
      ],
      "metadata": {
        "execution": {
          "iopub.status.busy": "2021-12-10T04:53:41.619516Z",
          "iopub.execute_input": "2021-12-10T04:53:41.619760Z",
          "iopub.status.idle": "2021-12-10T04:53:56.709104Z",
          "shell.execute_reply.started": "2021-12-10T04:53:41.619733Z",
          "shell.execute_reply": "2021-12-10T04:53:56.708260Z"
        },
        "trusted": true,
        "id": "T1meDxTrhYyU"
      },
      "execution_count": 58,
      "outputs": []
    },
    {
      "cell_type": "code",
      "source": [
        "data.head()"
      ],
      "metadata": {
        "execution": {
          "iopub.status.busy": "2021-12-10T04:53:56.710323Z",
          "iopub.execute_input": "2021-12-10T04:53:56.710567Z",
          "iopub.status.idle": "2021-12-10T04:53:56.728165Z",
          "shell.execute_reply.started": "2021-12-10T04:53:56.710526Z",
          "shell.execute_reply": "2021-12-10T04:53:56.727245Z"
        },
        "trusted": true,
        "colab": {
          "base_uri": "https://localhost:8080/",
          "height": 292
        },
        "id": "5gudCS01hYyU",
        "outputId": "148e4cb3-e2f4-4d56-b301-d73eb8fd076b"
      },
      "execution_count": 59,
      "outputs": [
        {
          "output_type": "execute_result",
          "data": {
            "text/html": [
              "<div>\n",
              "<style scoped>\n",
              "    .dataframe tbody tr th:only-of-type {\n",
              "        vertical-align: middle;\n",
              "    }\n",
              "\n",
              "    .dataframe tbody tr th {\n",
              "        vertical-align: top;\n",
              "    }\n",
              "\n",
              "    .dataframe thead th {\n",
              "        text-align: right;\n",
              "    }\n",
              "</style>\n",
              "<table border=\"1\" class=\"dataframe\">\n",
              "  <thead>\n",
              "    <tr style=\"text-align: right;\">\n",
              "      <th></th>\n",
              "      <th>title</th>\n",
              "      <th>text</th>\n",
              "      <th>subject</th>\n",
              "      <th>date</th>\n",
              "      <th>target</th>\n",
              "      <th>words_count</th>\n",
              "      <th>char_count</th>\n",
              "      <th>hashtags_count</th>\n",
              "      <th>email_counts</th>\n",
              "      <th>digits_count</th>\n",
              "    </tr>\n",
              "  </thead>\n",
              "  <tbody>\n",
              "    <tr>\n",
              "      <th>0</th>\n",
              "      <td>As U.S. budget fight looms, Republicans flip t...</td>\n",
              "      <td>washington reuter - head conserv republican fa...</td>\n",
              "      <td>politicsNews</td>\n",
              "      <td>December 31, 2017</td>\n",
              "      <td>0</td>\n",
              "      <td>749</td>\n",
              "      <td>3907</td>\n",
              "      <td>0</td>\n",
              "      <td>0</td>\n",
              "      <td>[2018, 7, 10, 11, 1, 5, 10, 20, 1, 5, 30, 2018...</td>\n",
              "    </tr>\n",
              "    <tr>\n",
              "      <th>1</th>\n",
              "      <td>U.S. military to accept transgender recruits o...</td>\n",
              "      <td>washington reuter transgend peopl allow first ...</td>\n",
              "      <td>politicsNews</td>\n",
              "      <td>December 29, 2017</td>\n",
              "      <td>0</td>\n",
              "      <td>624</td>\n",
              "      <td>3453</td>\n",
              "      <td>0</td>\n",
              "      <td>0</td>\n",
              "      <td>[1, 21, 1, 8, 1, 1, 2017, 1, 2018]</td>\n",
              "    </tr>\n",
              "    <tr>\n",
              "      <th>2</th>\n",
              "      <td>Senior U.S. Republican senator: 'Let Mr. Muell...</td>\n",
              "      <td>washington reuter - special counsel investig l...</td>\n",
              "      <td>politicsNews</td>\n",
              "      <td>December 31, 2017</td>\n",
              "      <td>0</td>\n",
              "      <td>457</td>\n",
              "      <td>2324</td>\n",
              "      <td>0</td>\n",
              "      <td>0</td>\n",
              "      <td>[2016, 2018]</td>\n",
              "    </tr>\n",
              "    <tr>\n",
              "      <th>3</th>\n",
              "      <td>FBI Russia probe helped by Australian diplomat...</td>\n",
              "      <td>washington reuter - trump campaign advis georg...</td>\n",
              "      <td>politicsNews</td>\n",
              "      <td>December 30, 2017</td>\n",
              "      <td>0</td>\n",
              "      <td>376</td>\n",
              "      <td>2085</td>\n",
              "      <td>0</td>\n",
              "      <td>0</td>\n",
              "      <td>[2016, 30, 2016]</td>\n",
              "    </tr>\n",
              "    <tr>\n",
              "      <th>4</th>\n",
              "      <td>Trump wants Postal Service to charge 'much mor...</td>\n",
              "      <td>seattle/washington reuter - presid donald trum...</td>\n",
              "      <td>politicsNews</td>\n",
              "      <td>December 29, 2017</td>\n",
              "      <td>0</td>\n",
              "      <td>852</td>\n",
              "      <td>4341</td>\n",
              "      <td>0</td>\n",
              "      <td>0</td>\n",
              "      <td>[2, 2015, 11, 5, 46, 0, 86, 1, 175, 90, 62, 3,...</td>\n",
              "    </tr>\n",
              "  </tbody>\n",
              "</table>\n",
              "</div>"
            ],
            "text/plain": [
              "                                               title  ...                                       digits_count\n",
              "0  As U.S. budget fight looms, Republicans flip t...  ...  [2018, 7, 10, 11, 1, 5, 10, 20, 1, 5, 30, 2018...\n",
              "1  U.S. military to accept transgender recruits o...  ...                 [1, 21, 1, 8, 1, 1, 2017, 1, 2018]\n",
              "2  Senior U.S. Republican senator: 'Let Mr. Muell...  ...                                       [2016, 2018]\n",
              "3  FBI Russia probe helped by Australian diplomat...  ...                                   [2016, 30, 2016]\n",
              "4  Trump wants Postal Service to charge 'much mor...  ...  [2, 2015, 11, 5, 46, 0, 86, 1, 175, 90, 62, 3,...\n",
              "\n",
              "[5 rows x 10 columns]"
            ]
          },
          "metadata": {},
          "execution_count": 59
        }
      ]
    },
    {
      "cell_type": "code",
      "source": [
        "X_train, X_test, y_train, y_test = train_test_split(X, y, test_size=0.2, random_state= 777)"
      ],
      "metadata": {
        "execution": {
          "iopub.status.busy": "2021-12-10T04:53:56.729397Z",
          "iopub.execute_input": "2021-12-10T04:53:56.729649Z",
          "iopub.status.idle": "2021-12-10T04:53:56.773929Z",
          "shell.execute_reply.started": "2021-12-10T04:53:56.729605Z",
          "shell.execute_reply": "2021-12-10T04:53:56.773272Z"
        },
        "trusted": true,
        "id": "sEcp8dBxhYyU"
      },
      "execution_count": 60,
      "outputs": []
    },
    {
      "cell_type": "code",
      "source": [
        "X_train.shape, X_test.shape, y_train.shape, y_test.shape"
      ],
      "metadata": {
        "execution": {
          "iopub.status.busy": "2021-12-10T04:53:56.775294Z",
          "iopub.execute_input": "2021-12-10T04:53:56.775721Z",
          "iopub.status.idle": "2021-12-10T04:53:56.781035Z",
          "shell.execute_reply.started": "2021-12-10T04:53:56.775692Z",
          "shell.execute_reply": "2021-12-10T04:53:56.780479Z"
        },
        "trusted": true,
        "colab": {
          "base_uri": "https://localhost:8080/"
        },
        "id": "jdnj0ELChYyV",
        "outputId": "10186e2d-4e02-4a62-aa93-ceba4e621fcc"
      },
      "execution_count": 61,
      "outputs": [
        {
          "output_type": "execute_result",
          "data": {
            "text/plain": [
              "((35918, 105417), (8980, 105417), (35918,), (8980,))"
            ]
          },
          "metadata": {},
          "execution_count": 61
        }
      ]
    },
    {
      "cell_type": "markdown",
      "source": [
        "# Support Vector Machine"
      ],
      "metadata": {
        "id": "j7ypqaC4hYyV"
      }
    },
    {
      "cell_type": "code",
      "source": [
        "from sklearn.svm import LinearSVC"
      ],
      "metadata": {
        "execution": {
          "iopub.status.busy": "2021-12-10T04:53:56.782232Z",
          "iopub.execute_input": "2021-12-10T04:53:56.782718Z",
          "iopub.status.idle": "2021-12-10T04:53:56.793176Z",
          "shell.execute_reply.started": "2021-12-10T04:53:56.782682Z",
          "shell.execute_reply": "2021-12-10T04:53:56.792520Z"
        },
        "trusted": true,
        "id": "Md0Ab8fDhYyV"
      },
      "execution_count": 62,
      "outputs": []
    },
    {
      "cell_type": "code",
      "source": [
        "clf_svc = LinearSVC()\n",
        "clf_svc.fit(X_train, y_train)\n",
        "y_pred = clf_svc.predict(X_test)\n",
        "\n",
        "print(classification_report(y_test, y_pred))"
      ],
      "metadata": {
        "execution": {
          "iopub.status.busy": "2021-12-10T04:53:56.794608Z",
          "iopub.execute_input": "2021-12-10T04:53:56.795032Z",
          "iopub.status.idle": "2021-12-10T04:53:57.387614Z",
          "shell.execute_reply.started": "2021-12-10T04:53:56.795001Z",
          "shell.execute_reply": "2021-12-10T04:53:57.386524Z"
        },
        "trusted": true,
        "colab": {
          "base_uri": "https://localhost:8080/"
        },
        "id": "sW0V4VdfhYyW",
        "outputId": "1f38c02e-f97f-483d-faf6-b490b2bb6782"
      },
      "execution_count": 63,
      "outputs": [
        {
          "output_type": "stream",
          "name": "stdout",
          "text": [
            "              precision    recall  f1-score   support\n",
            "\n",
            "           0       1.00      1.00      1.00      4246\n",
            "           1       1.00      1.00      1.00      4734\n",
            "\n",
            "    accuracy                           1.00      8980\n",
            "   macro avg       1.00      1.00      1.00      8980\n",
            "weighted avg       1.00      1.00      1.00      8980\n",
            "\n"
          ]
        }
      ]
    },
    {
      "cell_type": "code",
      "source": [
        "print(confusion_matrix(y_test, y_pred))"
      ],
      "metadata": {
        "execution": {
          "iopub.status.busy": "2021-12-10T04:53:57.388861Z",
          "iopub.execute_input": "2021-12-10T04:53:57.389105Z",
          "iopub.status.idle": "2021-12-10T04:53:57.410779Z",
          "shell.execute_reply.started": "2021-12-10T04:53:57.389075Z",
          "shell.execute_reply": "2021-12-10T04:53:57.410126Z"
        },
        "trusted": true,
        "colab": {
          "base_uri": "https://localhost:8080/"
        },
        "id": "cqa7XHgbhYyW",
        "outputId": "be3670d0-8bb9-45b6-fdab-91a04ec18f79"
      },
      "execution_count": 64,
      "outputs": [
        {
          "output_type": "stream",
          "name": "stdout",
          "text": [
            "[[4228   18]\n",
            " [  20 4714]]\n"
          ]
        }
      ]
    },
    {
      "cell_type": "code",
      "source": [
        "clf_svc.score(X_test, y_test)"
      ],
      "metadata": {
        "execution": {
          "iopub.status.busy": "2021-12-10T04:53:57.411915Z",
          "iopub.execute_input": "2021-12-10T04:53:57.412718Z",
          "iopub.status.idle": "2021-12-10T04:53:57.426301Z",
          "shell.execute_reply.started": "2021-12-10T04:53:57.412668Z",
          "shell.execute_reply": "2021-12-10T04:53:57.424787Z"
        },
        "trusted": true,
        "colab": {
          "base_uri": "https://localhost:8080/"
        },
        "id": "kwMYyVk7hYyX",
        "outputId": "2fa54b6b-8719-44f2-9c3d-a993daab4fb9"
      },
      "execution_count": 65,
      "outputs": [
        {
          "output_type": "execute_result",
          "data": {
            "text/plain": [
              "0.9957683741648107"
            ]
          },
          "metadata": {},
          "execution_count": 65
        }
      ]
    },
    {
      "cell_type": "code",
      "source": [
        "# Accuracy on the test set is near to 100%"
      ],
      "metadata": {
        "execution": {
          "iopub.status.busy": "2021-12-10T04:53:57.429409Z",
          "iopub.execute_input": "2021-12-10T04:53:57.431336Z",
          "iopub.status.idle": "2021-12-10T04:53:57.435028Z",
          "shell.execute_reply.started": "2021-12-10T04:53:57.431297Z",
          "shell.execute_reply": "2021-12-10T04:53:57.434471Z"
        },
        "trusted": true,
        "id": "O4UeQO4DhYyX"
      },
      "execution_count": 66,
      "outputs": []
    },
    {
      "cell_type": "code",
      "source": [
        ""
      ],
      "metadata": {
        "id": "KYHwQtAGhYyX"
      },
      "execution_count": 66,
      "outputs": []
    }
  ]
}