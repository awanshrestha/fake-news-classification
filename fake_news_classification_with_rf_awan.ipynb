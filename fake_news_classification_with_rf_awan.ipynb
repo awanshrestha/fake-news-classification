{
  "metadata": {
    "kernelspec": {
      "language": "python",
      "display_name": "Python 3",
      "name": "python3"
    },
    "language_info": {
      "name": "python",
      "version": "3.7.10",
      "mimetype": "text/x-python",
      "codemirror_mode": {
        "name": "ipython",
        "version": 3
      },
      "pygments_lexer": "ipython3",
      "nbconvert_exporter": "python",
      "file_extension": ".py"
    },
    "colab": {
      "name": "fake-news-classification-with-rf-awan.ipynb",
      "provenance": [],
      "include_colab_link": true
    }
  },
  "nbformat_minor": 0,
  "nbformat": 4,
  "cells": [
    {
      "cell_type": "markdown",
      "metadata": {
        "id": "view-in-github",
        "colab_type": "text"
      },
      "source": [
        "<a href=\"https://colab.research.google.com/github/awanshrestha/fake-news-classification/blob/main/fake_news_classification_with_rf_awan.ipynb\" target=\"_parent\"><img src=\"https://colab.research.google.com/assets/colab-badge.svg\" alt=\"Open In Colab\"/></a>"
      ]
    },
    {
      "cell_type": "code",
      "source": [
        "import numpy as np \n",
        "import pandas as pd \n",
        "import matplotlib.pyplot as plt\n",
        "\n",
        "from sklearn.model_selection import train_test_split\n",
        "from tensorflow.keras.preprocessing.text import Tokenizer\n",
        "from tensorflow.keras.preprocessing.sequence import pad_sequences"
      ],
      "metadata": {
        "_uuid": "8f2839f25d086af736a60e9eeb907d3b93b6e0e5",
        "_cell_guid": "b1076dfc-b9ad-4769-8c92-a6c4dae69d19",
        "execution": {
          "iopub.status.busy": "2021-12-12T15:59:13.565169Z",
          "iopub.execute_input": "2021-12-12T15:59:13.565582Z",
          "iopub.status.idle": "2021-12-12T15:59:13.579044Z",
          "shell.execute_reply.started": "2021-12-12T15:59:13.565546Z",
          "shell.execute_reply": "2021-12-12T15:59:13.577584Z"
        },
        "trusted": true,
        "id": "MjVrQSsqgeIw"
      },
      "execution_count": 3,
      "outputs": []
    },
    {
      "cell_type": "code",
      "source": [
        "from google.colab import drive\n",
        "drive.mount('/content/drive')"
      ],
      "metadata": {
        "colab": {
          "base_uri": "https://localhost:8080/"
        },
        "id": "1k0O4gxUgzNb",
        "outputId": "ce670416-e37d-425e-fad7-5b237c4a46bf"
      },
      "execution_count": 4,
      "outputs": [
        {
          "output_type": "stream",
          "name": "stdout",
          "text": [
            "Mounted at /content/drive\n"
          ]
        }
      ]
    },
    {
      "cell_type": "code",
      "source": [
        "true_news = pd.read_csv(\"/content/drive/MyDrive/Colab Notebooks/True.csv\")\n",
        "true_news[\"target\"] = 1\n",
        "print(true_news.shape)\n",
        "true_news.head(10)"
      ],
      "metadata": {
        "execution": {
          "iopub.status.busy": "2021-12-12T15:59:13.580924Z",
          "iopub.execute_input": "2021-12-12T15:59:13.581694Z",
          "iopub.status.idle": "2021-12-12T15:59:14.279863Z",
          "shell.execute_reply.started": "2021-12-12T15:59:13.581633Z",
          "shell.execute_reply": "2021-12-12T15:59:14.278698Z"
        },
        "trusted": true,
        "colab": {
          "base_uri": "https://localhost:8080/",
          "height": 380
        },
        "id": "oA-onitXgeI1",
        "outputId": "c185cd32-f714-4109-d7a0-4ab9df0d7182"
      },
      "execution_count": 5,
      "outputs": [
        {
          "output_type": "stream",
          "name": "stdout",
          "text": [
            "(21417, 5)\n"
          ]
        },
        {
          "output_type": "execute_result",
          "data": {
            "text/html": [
              "<div>\n",
              "<style scoped>\n",
              "    .dataframe tbody tr th:only-of-type {\n",
              "        vertical-align: middle;\n",
              "    }\n",
              "\n",
              "    .dataframe tbody tr th {\n",
              "        vertical-align: top;\n",
              "    }\n",
              "\n",
              "    .dataframe thead th {\n",
              "        text-align: right;\n",
              "    }\n",
              "</style>\n",
              "<table border=\"1\" class=\"dataframe\">\n",
              "  <thead>\n",
              "    <tr style=\"text-align: right;\">\n",
              "      <th></th>\n",
              "      <th>title</th>\n",
              "      <th>text</th>\n",
              "      <th>subject</th>\n",
              "      <th>date</th>\n",
              "      <th>target</th>\n",
              "    </tr>\n",
              "  </thead>\n",
              "  <tbody>\n",
              "    <tr>\n",
              "      <th>0</th>\n",
              "      <td>As U.S. budget fight looms, Republicans flip t...</td>\n",
              "      <td>WASHINGTON (Reuters) - The head of a conservat...</td>\n",
              "      <td>politicsNews</td>\n",
              "      <td>December 31, 2017</td>\n",
              "      <td>1</td>\n",
              "    </tr>\n",
              "    <tr>\n",
              "      <th>1</th>\n",
              "      <td>U.S. military to accept transgender recruits o...</td>\n",
              "      <td>WASHINGTON (Reuters) - Transgender people will...</td>\n",
              "      <td>politicsNews</td>\n",
              "      <td>December 29, 2017</td>\n",
              "      <td>1</td>\n",
              "    </tr>\n",
              "    <tr>\n",
              "      <th>2</th>\n",
              "      <td>Senior U.S. Republican senator: 'Let Mr. Muell...</td>\n",
              "      <td>WASHINGTON (Reuters) - The special counsel inv...</td>\n",
              "      <td>politicsNews</td>\n",
              "      <td>December 31, 2017</td>\n",
              "      <td>1</td>\n",
              "    </tr>\n",
              "    <tr>\n",
              "      <th>3</th>\n",
              "      <td>FBI Russia probe helped by Australian diplomat...</td>\n",
              "      <td>WASHINGTON (Reuters) - Trump campaign adviser ...</td>\n",
              "      <td>politicsNews</td>\n",
              "      <td>December 30, 2017</td>\n",
              "      <td>1</td>\n",
              "    </tr>\n",
              "    <tr>\n",
              "      <th>4</th>\n",
              "      <td>Trump wants Postal Service to charge 'much mor...</td>\n",
              "      <td>SEATTLE/WASHINGTON (Reuters) - President Donal...</td>\n",
              "      <td>politicsNews</td>\n",
              "      <td>December 29, 2017</td>\n",
              "      <td>1</td>\n",
              "    </tr>\n",
              "    <tr>\n",
              "      <th>5</th>\n",
              "      <td>White House, Congress prepare for talks on spe...</td>\n",
              "      <td>WEST PALM BEACH, Fla./WASHINGTON (Reuters) - T...</td>\n",
              "      <td>politicsNews</td>\n",
              "      <td>December 29, 2017</td>\n",
              "      <td>1</td>\n",
              "    </tr>\n",
              "    <tr>\n",
              "      <th>6</th>\n",
              "      <td>Trump says Russia probe will be fair, but time...</td>\n",
              "      <td>WEST PALM BEACH, Fla (Reuters) - President Don...</td>\n",
              "      <td>politicsNews</td>\n",
              "      <td>December 29, 2017</td>\n",
              "      <td>1</td>\n",
              "    </tr>\n",
              "    <tr>\n",
              "      <th>7</th>\n",
              "      <td>Factbox: Trump on Twitter (Dec 29) - Approval ...</td>\n",
              "      <td>The following statements were posted to the ve...</td>\n",
              "      <td>politicsNews</td>\n",
              "      <td>December 29, 2017</td>\n",
              "      <td>1</td>\n",
              "    </tr>\n",
              "    <tr>\n",
              "      <th>8</th>\n",
              "      <td>Trump on Twitter (Dec 28) - Global Warming</td>\n",
              "      <td>The following statements were posted to the ve...</td>\n",
              "      <td>politicsNews</td>\n",
              "      <td>December 29, 2017</td>\n",
              "      <td>1</td>\n",
              "    </tr>\n",
              "    <tr>\n",
              "      <th>9</th>\n",
              "      <td>Alabama official to certify Senator-elect Jone...</td>\n",
              "      <td>WASHINGTON (Reuters) - Alabama Secretary of St...</td>\n",
              "      <td>politicsNews</td>\n",
              "      <td>December 28, 2017</td>\n",
              "      <td>1</td>\n",
              "    </tr>\n",
              "  </tbody>\n",
              "</table>\n",
              "</div>"
            ],
            "text/plain": [
              "                                               title  ... target\n",
              "0  As U.S. budget fight looms, Republicans flip t...  ...      1\n",
              "1  U.S. military to accept transgender recruits o...  ...      1\n",
              "2  Senior U.S. Republican senator: 'Let Mr. Muell...  ...      1\n",
              "3  FBI Russia probe helped by Australian diplomat...  ...      1\n",
              "4  Trump wants Postal Service to charge 'much mor...  ...      1\n",
              "5  White House, Congress prepare for talks on spe...  ...      1\n",
              "6  Trump says Russia probe will be fair, but time...  ...      1\n",
              "7  Factbox: Trump on Twitter (Dec 29) - Approval ...  ...      1\n",
              "8         Trump on Twitter (Dec 28) - Global Warming  ...      1\n",
              "9  Alabama official to certify Senator-elect Jone...  ...      1\n",
              "\n",
              "[10 rows x 5 columns]"
            ]
          },
          "metadata": {},
          "execution_count": 5
        }
      ]
    },
    {
      "cell_type": "code",
      "source": [
        "fake_news = pd.read_csv(\"/content/drive/MyDrive/Colab Notebooks/Fake.csv\")\n",
        "fake_news[\"target\"] = 0\n",
        "print(fake_news.shape)\n",
        "fake_news.head(10)"
      ],
      "metadata": {
        "execution": {
          "iopub.status.busy": "2021-12-12T15:59:14.281826Z",
          "iopub.execute_input": "2021-12-12T15:59:14.282119Z",
          "iopub.status.idle": "2021-12-12T15:59:15.017877Z",
          "shell.execute_reply.started": "2021-12-12T15:59:14.282090Z",
          "shell.execute_reply": "2021-12-12T15:59:15.016567Z"
        },
        "trusted": true,
        "colab": {
          "base_uri": "https://localhost:8080/",
          "height": 380
        },
        "id": "S5prDb_tgeI2",
        "outputId": "37abec7d-bae3-43aa-aece-db6e835c32bd"
      },
      "execution_count": 6,
      "outputs": [
        {
          "output_type": "stream",
          "name": "stdout",
          "text": [
            "(23481, 5)\n"
          ]
        },
        {
          "output_type": "execute_result",
          "data": {
            "text/html": [
              "<div>\n",
              "<style scoped>\n",
              "    .dataframe tbody tr th:only-of-type {\n",
              "        vertical-align: middle;\n",
              "    }\n",
              "\n",
              "    .dataframe tbody tr th {\n",
              "        vertical-align: top;\n",
              "    }\n",
              "\n",
              "    .dataframe thead th {\n",
              "        text-align: right;\n",
              "    }\n",
              "</style>\n",
              "<table border=\"1\" class=\"dataframe\">\n",
              "  <thead>\n",
              "    <tr style=\"text-align: right;\">\n",
              "      <th></th>\n",
              "      <th>title</th>\n",
              "      <th>text</th>\n",
              "      <th>subject</th>\n",
              "      <th>date</th>\n",
              "      <th>target</th>\n",
              "    </tr>\n",
              "  </thead>\n",
              "  <tbody>\n",
              "    <tr>\n",
              "      <th>0</th>\n",
              "      <td>Donald Trump Sends Out Embarrassing New Year’...</td>\n",
              "      <td>Donald Trump just couldn t wish all Americans ...</td>\n",
              "      <td>News</td>\n",
              "      <td>December 31, 2017</td>\n",
              "      <td>0</td>\n",
              "    </tr>\n",
              "    <tr>\n",
              "      <th>1</th>\n",
              "      <td>Drunk Bragging Trump Staffer Started Russian ...</td>\n",
              "      <td>House Intelligence Committee Chairman Devin Nu...</td>\n",
              "      <td>News</td>\n",
              "      <td>December 31, 2017</td>\n",
              "      <td>0</td>\n",
              "    </tr>\n",
              "    <tr>\n",
              "      <th>2</th>\n",
              "      <td>Sheriff David Clarke Becomes An Internet Joke...</td>\n",
              "      <td>On Friday, it was revealed that former Milwauk...</td>\n",
              "      <td>News</td>\n",
              "      <td>December 30, 2017</td>\n",
              "      <td>0</td>\n",
              "    </tr>\n",
              "    <tr>\n",
              "      <th>3</th>\n",
              "      <td>Trump Is So Obsessed He Even Has Obama’s Name...</td>\n",
              "      <td>On Christmas day, Donald Trump announced that ...</td>\n",
              "      <td>News</td>\n",
              "      <td>December 29, 2017</td>\n",
              "      <td>0</td>\n",
              "    </tr>\n",
              "    <tr>\n",
              "      <th>4</th>\n",
              "      <td>Pope Francis Just Called Out Donald Trump Dur...</td>\n",
              "      <td>Pope Francis used his annual Christmas Day mes...</td>\n",
              "      <td>News</td>\n",
              "      <td>December 25, 2017</td>\n",
              "      <td>0</td>\n",
              "    </tr>\n",
              "    <tr>\n",
              "      <th>5</th>\n",
              "      <td>Racist Alabama Cops Brutalize Black Boy While...</td>\n",
              "      <td>The number of cases of cops brutalizing and ki...</td>\n",
              "      <td>News</td>\n",
              "      <td>December 25, 2017</td>\n",
              "      <td>0</td>\n",
              "    </tr>\n",
              "    <tr>\n",
              "      <th>6</th>\n",
              "      <td>Fresh Off The Golf Course, Trump Lashes Out A...</td>\n",
              "      <td>Donald Trump spent a good portion of his day a...</td>\n",
              "      <td>News</td>\n",
              "      <td>December 23, 2017</td>\n",
              "      <td>0</td>\n",
              "    </tr>\n",
              "    <tr>\n",
              "      <th>7</th>\n",
              "      <td>Trump Said Some INSANELY Racist Stuff Inside ...</td>\n",
              "      <td>In the wake of yet another court decision that...</td>\n",
              "      <td>News</td>\n",
              "      <td>December 23, 2017</td>\n",
              "      <td>0</td>\n",
              "    </tr>\n",
              "    <tr>\n",
              "      <th>8</th>\n",
              "      <td>Former CIA Director Slams Trump Over UN Bully...</td>\n",
              "      <td>Many people have raised the alarm regarding th...</td>\n",
              "      <td>News</td>\n",
              "      <td>December 22, 2017</td>\n",
              "      <td>0</td>\n",
              "    </tr>\n",
              "    <tr>\n",
              "      <th>9</th>\n",
              "      <td>WATCH: Brand-New Pro-Trump Ad Features So Muc...</td>\n",
              "      <td>Just when you might have thought we d get a br...</td>\n",
              "      <td>News</td>\n",
              "      <td>December 21, 2017</td>\n",
              "      <td>0</td>\n",
              "    </tr>\n",
              "  </tbody>\n",
              "</table>\n",
              "</div>"
            ],
            "text/plain": [
              "                                               title  ... target\n",
              "0   Donald Trump Sends Out Embarrassing New Year’...  ...      0\n",
              "1   Drunk Bragging Trump Staffer Started Russian ...  ...      0\n",
              "2   Sheriff David Clarke Becomes An Internet Joke...  ...      0\n",
              "3   Trump Is So Obsessed He Even Has Obama’s Name...  ...      0\n",
              "4   Pope Francis Just Called Out Donald Trump Dur...  ...      0\n",
              "5   Racist Alabama Cops Brutalize Black Boy While...  ...      0\n",
              "6   Fresh Off The Golf Course, Trump Lashes Out A...  ...      0\n",
              "7   Trump Said Some INSANELY Racist Stuff Inside ...  ...      0\n",
              "8   Former CIA Director Slams Trump Over UN Bully...  ...      0\n",
              "9   WATCH: Brand-New Pro-Trump Ad Features So Muc...  ...      0\n",
              "\n",
              "[10 rows x 5 columns]"
            ]
          },
          "metadata": {},
          "execution_count": 6
        }
      ]
    },
    {
      "cell_type": "code",
      "source": [
        "true_news = true_news[[\"text\", \"target\"]].copy()\n",
        "true_news.head(10)"
      ],
      "metadata": {
        "execution": {
          "iopub.status.busy": "2021-12-12T15:59:15.019628Z",
          "iopub.execute_input": "2021-12-12T15:59:15.019991Z",
          "iopub.status.idle": "2021-12-12T15:59:15.038949Z",
          "shell.execute_reply.started": "2021-12-12T15:59:15.019957Z",
          "shell.execute_reply": "2021-12-12T15:59:15.038099Z"
        },
        "trusted": true,
        "colab": {
          "base_uri": "https://localhost:8080/",
          "height": 362
        },
        "id": "HhX2wI3cgeI3",
        "outputId": "d0cc7568-2a8b-4eaf-f20f-80ccef66d752"
      },
      "execution_count": 7,
      "outputs": [
        {
          "output_type": "execute_result",
          "data": {
            "text/html": [
              "<div>\n",
              "<style scoped>\n",
              "    .dataframe tbody tr th:only-of-type {\n",
              "        vertical-align: middle;\n",
              "    }\n",
              "\n",
              "    .dataframe tbody tr th {\n",
              "        vertical-align: top;\n",
              "    }\n",
              "\n",
              "    .dataframe thead th {\n",
              "        text-align: right;\n",
              "    }\n",
              "</style>\n",
              "<table border=\"1\" class=\"dataframe\">\n",
              "  <thead>\n",
              "    <tr style=\"text-align: right;\">\n",
              "      <th></th>\n",
              "      <th>text</th>\n",
              "      <th>target</th>\n",
              "    </tr>\n",
              "  </thead>\n",
              "  <tbody>\n",
              "    <tr>\n",
              "      <th>0</th>\n",
              "      <td>WASHINGTON (Reuters) - The head of a conservat...</td>\n",
              "      <td>1</td>\n",
              "    </tr>\n",
              "    <tr>\n",
              "      <th>1</th>\n",
              "      <td>WASHINGTON (Reuters) - Transgender people will...</td>\n",
              "      <td>1</td>\n",
              "    </tr>\n",
              "    <tr>\n",
              "      <th>2</th>\n",
              "      <td>WASHINGTON (Reuters) - The special counsel inv...</td>\n",
              "      <td>1</td>\n",
              "    </tr>\n",
              "    <tr>\n",
              "      <th>3</th>\n",
              "      <td>WASHINGTON (Reuters) - Trump campaign adviser ...</td>\n",
              "      <td>1</td>\n",
              "    </tr>\n",
              "    <tr>\n",
              "      <th>4</th>\n",
              "      <td>SEATTLE/WASHINGTON (Reuters) - President Donal...</td>\n",
              "      <td>1</td>\n",
              "    </tr>\n",
              "    <tr>\n",
              "      <th>5</th>\n",
              "      <td>WEST PALM BEACH, Fla./WASHINGTON (Reuters) - T...</td>\n",
              "      <td>1</td>\n",
              "    </tr>\n",
              "    <tr>\n",
              "      <th>6</th>\n",
              "      <td>WEST PALM BEACH, Fla (Reuters) - President Don...</td>\n",
              "      <td>1</td>\n",
              "    </tr>\n",
              "    <tr>\n",
              "      <th>7</th>\n",
              "      <td>The following statements were posted to the ve...</td>\n",
              "      <td>1</td>\n",
              "    </tr>\n",
              "    <tr>\n",
              "      <th>8</th>\n",
              "      <td>The following statements were posted to the ve...</td>\n",
              "      <td>1</td>\n",
              "    </tr>\n",
              "    <tr>\n",
              "      <th>9</th>\n",
              "      <td>WASHINGTON (Reuters) - Alabama Secretary of St...</td>\n",
              "      <td>1</td>\n",
              "    </tr>\n",
              "  </tbody>\n",
              "</table>\n",
              "</div>"
            ],
            "text/plain": [
              "                                                text  target\n",
              "0  WASHINGTON (Reuters) - The head of a conservat...       1\n",
              "1  WASHINGTON (Reuters) - Transgender people will...       1\n",
              "2  WASHINGTON (Reuters) - The special counsel inv...       1\n",
              "3  WASHINGTON (Reuters) - Trump campaign adviser ...       1\n",
              "4  SEATTLE/WASHINGTON (Reuters) - President Donal...       1\n",
              "5  WEST PALM BEACH, Fla./WASHINGTON (Reuters) - T...       1\n",
              "6  WEST PALM BEACH, Fla (Reuters) - President Don...       1\n",
              "7  The following statements were posted to the ve...       1\n",
              "8  The following statements were posted to the ve...       1\n",
              "9  WASHINGTON (Reuters) - Alabama Secretary of St...       1"
            ]
          },
          "metadata": {},
          "execution_count": 7
        }
      ]
    },
    {
      "cell_type": "code",
      "source": [
        "fake_news = fake_news[[\"text\", \"target\"]].copy()\n",
        "fake_news.head(10)"
      ],
      "metadata": {
        "execution": {
          "iopub.status.busy": "2021-12-12T15:59:15.040044Z",
          "iopub.execute_input": "2021-12-12T15:59:15.040328Z",
          "iopub.status.idle": "2021-12-12T15:59:15.056911Z",
          "shell.execute_reply.started": "2021-12-12T15:59:15.040300Z",
          "shell.execute_reply": "2021-12-12T15:59:15.055303Z"
        },
        "trusted": true,
        "colab": {
          "base_uri": "https://localhost:8080/",
          "height": 362
        },
        "id": "RXDBCiz5geI3",
        "outputId": "95bded76-2afa-47d8-b030-c02307b73e94"
      },
      "execution_count": 8,
      "outputs": [
        {
          "output_type": "execute_result",
          "data": {
            "text/html": [
              "<div>\n",
              "<style scoped>\n",
              "    .dataframe tbody tr th:only-of-type {\n",
              "        vertical-align: middle;\n",
              "    }\n",
              "\n",
              "    .dataframe tbody tr th {\n",
              "        vertical-align: top;\n",
              "    }\n",
              "\n",
              "    .dataframe thead th {\n",
              "        text-align: right;\n",
              "    }\n",
              "</style>\n",
              "<table border=\"1\" class=\"dataframe\">\n",
              "  <thead>\n",
              "    <tr style=\"text-align: right;\">\n",
              "      <th></th>\n",
              "      <th>text</th>\n",
              "      <th>target</th>\n",
              "    </tr>\n",
              "  </thead>\n",
              "  <tbody>\n",
              "    <tr>\n",
              "      <th>0</th>\n",
              "      <td>Donald Trump just couldn t wish all Americans ...</td>\n",
              "      <td>0</td>\n",
              "    </tr>\n",
              "    <tr>\n",
              "      <th>1</th>\n",
              "      <td>House Intelligence Committee Chairman Devin Nu...</td>\n",
              "      <td>0</td>\n",
              "    </tr>\n",
              "    <tr>\n",
              "      <th>2</th>\n",
              "      <td>On Friday, it was revealed that former Milwauk...</td>\n",
              "      <td>0</td>\n",
              "    </tr>\n",
              "    <tr>\n",
              "      <th>3</th>\n",
              "      <td>On Christmas day, Donald Trump announced that ...</td>\n",
              "      <td>0</td>\n",
              "    </tr>\n",
              "    <tr>\n",
              "      <th>4</th>\n",
              "      <td>Pope Francis used his annual Christmas Day mes...</td>\n",
              "      <td>0</td>\n",
              "    </tr>\n",
              "    <tr>\n",
              "      <th>5</th>\n",
              "      <td>The number of cases of cops brutalizing and ki...</td>\n",
              "      <td>0</td>\n",
              "    </tr>\n",
              "    <tr>\n",
              "      <th>6</th>\n",
              "      <td>Donald Trump spent a good portion of his day a...</td>\n",
              "      <td>0</td>\n",
              "    </tr>\n",
              "    <tr>\n",
              "      <th>7</th>\n",
              "      <td>In the wake of yet another court decision that...</td>\n",
              "      <td>0</td>\n",
              "    </tr>\n",
              "    <tr>\n",
              "      <th>8</th>\n",
              "      <td>Many people have raised the alarm regarding th...</td>\n",
              "      <td>0</td>\n",
              "    </tr>\n",
              "    <tr>\n",
              "      <th>9</th>\n",
              "      <td>Just when you might have thought we d get a br...</td>\n",
              "      <td>0</td>\n",
              "    </tr>\n",
              "  </tbody>\n",
              "</table>\n",
              "</div>"
            ],
            "text/plain": [
              "                                                text  target\n",
              "0  Donald Trump just couldn t wish all Americans ...       0\n",
              "1  House Intelligence Committee Chairman Devin Nu...       0\n",
              "2  On Friday, it was revealed that former Milwauk...       0\n",
              "3  On Christmas day, Donald Trump announced that ...       0\n",
              "4  Pope Francis used his annual Christmas Day mes...       0\n",
              "5  The number of cases of cops brutalizing and ki...       0\n",
              "6  Donald Trump spent a good portion of his day a...       0\n",
              "7  In the wake of yet another court decision that...       0\n",
              "8  Many people have raised the alarm regarding th...       0\n",
              "9  Just when you might have thought we d get a br...       0"
            ]
          },
          "metadata": {},
          "execution_count": 8
        }
      ]
    },
    {
      "cell_type": "code",
      "source": [
        "all_news = pd.concat([true_news, fake_news])\n",
        "print(all_news.shape)\n",
        "all_news.head(10)"
      ],
      "metadata": {
        "execution": {
          "iopub.status.busy": "2021-12-12T15:59:15.058420Z",
          "iopub.execute_input": "2021-12-12T15:59:15.058886Z",
          "iopub.status.idle": "2021-12-12T15:59:15.077570Z",
          "shell.execute_reply.started": "2021-12-12T15:59:15.058849Z",
          "shell.execute_reply": "2021-12-12T15:59:15.076603Z"
        },
        "trusted": true,
        "colab": {
          "base_uri": "https://localhost:8080/",
          "height": 380
        },
        "id": "UJuIaj_NgeI4",
        "outputId": "5787b417-dabd-4f63-a933-2e1023f49f31"
      },
      "execution_count": 9,
      "outputs": [
        {
          "output_type": "stream",
          "name": "stdout",
          "text": [
            "(44898, 2)\n"
          ]
        },
        {
          "output_type": "execute_result",
          "data": {
            "text/html": [
              "<div>\n",
              "<style scoped>\n",
              "    .dataframe tbody tr th:only-of-type {\n",
              "        vertical-align: middle;\n",
              "    }\n",
              "\n",
              "    .dataframe tbody tr th {\n",
              "        vertical-align: top;\n",
              "    }\n",
              "\n",
              "    .dataframe thead th {\n",
              "        text-align: right;\n",
              "    }\n",
              "</style>\n",
              "<table border=\"1\" class=\"dataframe\">\n",
              "  <thead>\n",
              "    <tr style=\"text-align: right;\">\n",
              "      <th></th>\n",
              "      <th>text</th>\n",
              "      <th>target</th>\n",
              "    </tr>\n",
              "  </thead>\n",
              "  <tbody>\n",
              "    <tr>\n",
              "      <th>0</th>\n",
              "      <td>WASHINGTON (Reuters) - The head of a conservat...</td>\n",
              "      <td>1</td>\n",
              "    </tr>\n",
              "    <tr>\n",
              "      <th>1</th>\n",
              "      <td>WASHINGTON (Reuters) - Transgender people will...</td>\n",
              "      <td>1</td>\n",
              "    </tr>\n",
              "    <tr>\n",
              "      <th>2</th>\n",
              "      <td>WASHINGTON (Reuters) - The special counsel inv...</td>\n",
              "      <td>1</td>\n",
              "    </tr>\n",
              "    <tr>\n",
              "      <th>3</th>\n",
              "      <td>WASHINGTON (Reuters) - Trump campaign adviser ...</td>\n",
              "      <td>1</td>\n",
              "    </tr>\n",
              "    <tr>\n",
              "      <th>4</th>\n",
              "      <td>SEATTLE/WASHINGTON (Reuters) - President Donal...</td>\n",
              "      <td>1</td>\n",
              "    </tr>\n",
              "    <tr>\n",
              "      <th>5</th>\n",
              "      <td>WEST PALM BEACH, Fla./WASHINGTON (Reuters) - T...</td>\n",
              "      <td>1</td>\n",
              "    </tr>\n",
              "    <tr>\n",
              "      <th>6</th>\n",
              "      <td>WEST PALM BEACH, Fla (Reuters) - President Don...</td>\n",
              "      <td>1</td>\n",
              "    </tr>\n",
              "    <tr>\n",
              "      <th>7</th>\n",
              "      <td>The following statements were posted to the ve...</td>\n",
              "      <td>1</td>\n",
              "    </tr>\n",
              "    <tr>\n",
              "      <th>8</th>\n",
              "      <td>The following statements were posted to the ve...</td>\n",
              "      <td>1</td>\n",
              "    </tr>\n",
              "    <tr>\n",
              "      <th>9</th>\n",
              "      <td>WASHINGTON (Reuters) - Alabama Secretary of St...</td>\n",
              "      <td>1</td>\n",
              "    </tr>\n",
              "  </tbody>\n",
              "</table>\n",
              "</div>"
            ],
            "text/plain": [
              "                                                text  target\n",
              "0  WASHINGTON (Reuters) - The head of a conservat...       1\n",
              "1  WASHINGTON (Reuters) - Transgender people will...       1\n",
              "2  WASHINGTON (Reuters) - The special counsel inv...       1\n",
              "3  WASHINGTON (Reuters) - Trump campaign adviser ...       1\n",
              "4  SEATTLE/WASHINGTON (Reuters) - President Donal...       1\n",
              "5  WEST PALM BEACH, Fla./WASHINGTON (Reuters) - T...       1\n",
              "6  WEST PALM BEACH, Fla (Reuters) - President Don...       1\n",
              "7  The following statements were posted to the ve...       1\n",
              "8  The following statements were posted to the ve...       1\n",
              "9  WASHINGTON (Reuters) - Alabama Secretary of St...       1"
            ]
          },
          "metadata": {},
          "execution_count": 9
        }
      ]
    },
    {
      "cell_type": "code",
      "source": [
        "all_news.info()"
      ],
      "metadata": {
        "execution": {
          "iopub.status.busy": "2021-12-12T15:59:15.078999Z",
          "iopub.execute_input": "2021-12-12T15:59:15.079291Z",
          "iopub.status.idle": "2021-12-12T15:59:15.104250Z",
          "shell.execute_reply.started": "2021-12-12T15:59:15.079259Z",
          "shell.execute_reply": "2021-12-12T15:59:15.102938Z"
        },
        "trusted": true,
        "colab": {
          "base_uri": "https://localhost:8080/"
        },
        "id": "Ft3BypLUgeI4",
        "outputId": "56d6ee1a-09da-48c4-915c-17b337788f39"
      },
      "execution_count": 10,
      "outputs": [
        {
          "output_type": "stream",
          "name": "stdout",
          "text": [
            "<class 'pandas.core.frame.DataFrame'>\n",
            "Int64Index: 44898 entries, 0 to 23480\n",
            "Data columns (total 2 columns):\n",
            " #   Column  Non-Null Count  Dtype \n",
            "---  ------  --------------  ----- \n",
            " 0   text    44898 non-null  object\n",
            " 1   target  44898 non-null  int64 \n",
            "dtypes: int64(1), object(1)\n",
            "memory usage: 1.0+ MB\n"
          ]
        }
      ]
    },
    {
      "cell_type": "code",
      "source": [
        "x_data = all_news[\"text\"].tolist()\n",
        "y_data = all_news[\"target\"].tolist()"
      ],
      "metadata": {
        "execution": {
          "iopub.status.busy": "2021-12-12T15:59:15.107070Z",
          "iopub.execute_input": "2021-12-12T15:59:15.107772Z",
          "iopub.status.idle": "2021-12-12T15:59:15.200900Z",
          "shell.execute_reply.started": "2021-12-12T15:59:15.107714Z",
          "shell.execute_reply": "2021-12-12T15:59:15.199650Z"
        },
        "trusted": true,
        "id": "hVGZZ5KmgeI5"
      },
      "execution_count": 11,
      "outputs": []
    },
    {
      "cell_type": "code",
      "source": [
        "tokenizer = Tokenizer()\n",
        "tokenizer.fit_on_texts(x_data)\n",
        "x_data = tokenizer.texts_to_sequences(x_data)"
      ],
      "metadata": {
        "execution": {
          "iopub.status.busy": "2021-12-12T15:59:15.202928Z",
          "iopub.execute_input": "2021-12-12T15:59:15.203381Z",
          "iopub.status.idle": "2021-12-12T15:59:50.513788Z",
          "shell.execute_reply.started": "2021-12-12T15:59:15.203329Z",
          "shell.execute_reply": "2021-12-12T15:59:50.512805Z"
        },
        "trusted": true,
        "id": "_mis5v_bgeI6"
      },
      "execution_count": 12,
      "outputs": []
    },
    {
      "cell_type": "code",
      "source": [
        "print(x_data.shape)"
      ],
      "metadata": {
        "colab": {
          "base_uri": "https://localhost:8080/"
        },
        "id": "qewGBvdf9jVZ",
        "outputId": "377d1700-bc6f-4865-cc6e-dadba7baf009"
      },
      "execution_count": 22,
      "outputs": [
        {
          "output_type": "stream",
          "name": "stdout",
          "text": [
            "(44898, 8375)\n"
          ]
        }
      ]
    },
    {
      "cell_type": "code",
      "source": [
        "x_data = pad_sequences(x_data)\n",
        "print(\"shape of data: \", x_data.shape)"
      ],
      "metadata": {
        "execution": {
          "iopub.status.busy": "2021-12-12T15:59:50.515315Z",
          "iopub.execute_input": "2021-12-12T15:59:50.515788Z",
          "iopub.status.idle": "2021-12-12T15:59:55.314890Z",
          "shell.execute_reply.started": "2021-12-12T15:59:50.515749Z",
          "shell.execute_reply": "2021-12-12T15:59:55.313765Z"
        },
        "trusted": true,
        "colab": {
          "base_uri": "https://localhost:8080/"
        },
        "id": "zy48xjj1geI7",
        "outputId": "3bbac2c2-be2e-4665-82bc-d0949a4a585d"
      },
      "execution_count": 13,
      "outputs": [
        {
          "output_type": "stream",
          "name": "stdout",
          "text": [
            "shape of data:  (44898, 8375)\n"
          ]
        }
      ]
    },
    {
      "cell_type": "code",
      "source": [
        "from sklearn.model_selection import train_test_split\n",
        "X_train, X_test, y_train, y_test = train_test_split(x_data, y_data, test_size=0.2, random_state=42)"
      ],
      "metadata": {
        "execution": {
          "iopub.status.busy": "2021-12-12T15:59:55.316316Z",
          "iopub.execute_input": "2021-12-12T15:59:55.316629Z",
          "iopub.status.idle": "2021-12-12T15:59:55.992923Z",
          "shell.execute_reply.started": "2021-12-12T15:59:55.316599Z",
          "shell.execute_reply": "2021-12-12T15:59:55.991661Z"
        },
        "trusted": true,
        "id": "2W8o3_nXgeI7"
      },
      "execution_count": 14,
      "outputs": []
    },
    {
      "cell_type": "code",
      "source": [
        "from sklearn.model_selection import GridSearchCV\n",
        "from sklearn.ensemble import RandomForestClassifier\n",
        "\n",
        "clf = RandomForestClassifier(n_estimators=200, max_depth=10, min_samples_leaf=10, min_samples_split=2)\n",
        "clf.fit(X_train, y_train)"
      ],
      "metadata": {
        "execution": {
          "iopub.status.busy": "2021-12-12T15:59:55.994509Z",
          "iopub.execute_input": "2021-12-12T15:59:55.994837Z",
          "iopub.status.idle": "2021-12-12T16:01:13.454823Z",
          "shell.execute_reply.started": "2021-12-12T15:59:55.994803Z",
          "shell.execute_reply": "2021-12-12T16:01:13.453601Z"
        },
        "trusted": true,
        "colab": {
          "base_uri": "https://localhost:8080/"
        },
        "id": "1jz1wfjKgeI8",
        "outputId": "0b2e8411-9c23-428e-86bf-942579c03c95"
      },
      "execution_count": 15,
      "outputs": [
        {
          "output_type": "execute_result",
          "data": {
            "text/plain": [
              "RandomForestClassifier(max_depth=10, min_samples_leaf=10, n_estimators=200)"
            ]
          },
          "metadata": {},
          "execution_count": 15
        }
      ]
    },
    {
      "cell_type": "code",
      "source": [
        "from sklearn.metrics import accuracy_score\n",
        "from sklearn.metrics import classification_report\n",
        "\n",
        "predict_result = clf.predict(X_test)\n",
        "print(\"Accuracy:\", accuracy_score(predict_result, y_test))\n",
        "print(classification_report(predict_result, y_test))"
      ],
      "metadata": {
        "execution": {
          "iopub.status.busy": "2021-12-12T16:01:13.456313Z",
          "iopub.execute_input": "2021-12-12T16:01:13.456674Z",
          "iopub.status.idle": "2021-12-12T16:01:14.242021Z",
          "shell.execute_reply.started": "2021-12-12T16:01:13.456638Z",
          "shell.execute_reply": "2021-12-12T16:01:14.240823Z"
        },
        "trusted": true,
        "colab": {
          "base_uri": "https://localhost:8080/"
        },
        "id": "SMiGuIA1geI8",
        "outputId": "50fa28dd-b0cd-42ff-a8ab-7ed4335ce2a1"
      },
      "execution_count": 16,
      "outputs": [
        {
          "output_type": "stream",
          "name": "stdout",
          "text": [
            "Accuracy: 0.689977728285078\n",
            "              precision    recall  f1-score   support\n",
            "\n",
            "           0       0.85      0.66      0.74      6012\n",
            "           1       0.52      0.76      0.62      2968\n",
            "\n",
            "    accuracy                           0.69      8980\n",
            "   macro avg       0.68      0.71      0.68      8980\n",
            "weighted avg       0.74      0.69      0.70      8980\n",
            "\n"
          ]
        }
      ]
    },
    {
      "cell_type": "code",
      "source": [
        "def predict(text):\n",
        "    data = tokenizer.texts_to_sequences(text)\n",
        "    data = pad_sequences(data, maxlen=8375)\n",
        "    clf.predict(data)\n",
        "    if clf.predict(data)[0] == 1:\n",
        "        print('This is fake news.')\n",
        "    else:\n",
        "        print('This is real news.')"
      ],
      "metadata": {
        "id": "yyuf6H0E5S4j"
      },
      "execution_count": 25,
      "outputs": []
    },
    {
      "cell_type": "code",
      "source": [
        "corpus1 = '''One of Donald Trump s favorite punching bags is CNN. He even once tweeted a GIF image of himself punching a person with a CNN logo superimposed over the head \n",
        "            indicating that he d like to enact violence against CNN s reporters. Then there was the time he tweeted the  Trump Train roaring over  CNN.  Now, he s back at it \n",
        "            this time suggesting that  fake  CNN should be the ones representing America to the world, and that they are doing a bad job. Here is that tweet:.@FoxNews \n",
        "            is MUCH more important in the United States than CNN, but outside of the U.S., CNN International is still a major source of (Fake) news, and they represent\n",
        "            our Nation to the WORLD very poorly. The outside world does not see the truth from them!  Donald J. Trump (@realDonaldTrump) November 25, 2017Of course, \n",
        "            it is beneath the dignity of most people to respond to a moronic buffoon like Trump under normal circumstances. However, he is currently squatting in the \n",
        "            White House, and has his tiny orange hands on the levers of power   not to mention the nuclear codes   so they have to stoop to a Trumpian level when \n",
        "            personally attacked. However, being, well, you know, FIT to be doing the job they are doing, the good folks at CNN Communications fired back at Trump, and \n",
        "            their response is nothing short of perfect:It's not CNN's job to represent the U.S to the world. That's yours. Our job is to report the news. #FactsFirst   \n",
        "            CNN Communications (@CNNPR) November 25, 2017BOOM! Couldn t have asked for a sicker burn than this. And they are right of course   especially the part about\n",
        "            #FactsFirst. Trump has a problem with the truth, as we all well know. That s what makes what the CNN Communications people replied so fabulous. \n",
        "            It is the ultimate truth   something the likes of the pathological orange liar that is Donald Trump knows nothing about.Featured image via  \n",
        "            Andrew Burton/Getty Images '''\n",
        "\n",
        "\n",
        "\n",
        "corpus2 = '''WASHINGTON (Reuters) - The No. 2 Republican in the U.S. House of Representatives said on Tuesday the House would likely need to vote again on tax\n",
        "            legislation on Wednesday morning given that Democrats in the Senate were likely to prevail on a procedural objection. House Majority Leader Kevin McCarthy \n",
        "            advised House lawmakers that Senate Democrats were likely to object that the legislation fails to comply with the so-called Byrd rule and were likely to be\n",
        "            upheld, necessitating a second House vote. “As such, members are further advised that an additional procedural vote on the Motion to Concur is expected \n",
        "                tomorrow morning, which will clear the bill for President Trump’s signature,” McCarthy said in a notice to House lawmakers. '''\n",
        "\n",
        "predict(corpus1)\n",
        "predict(corpus2)"
      ],
      "metadata": {
        "colab": {
          "base_uri": "https://localhost:8080/"
        },
        "id": "nBMYyQme5VjA",
        "outputId": "ec23d392-542a-49b0-8199-6117b646e93a"
      },
      "execution_count": 26,
      "outputs": [
        {
          "output_type": "stream",
          "name": "stdout",
          "text": [
            "This is real news.\n",
            "This is real news.\n"
          ]
        }
      ]
    }
  ]
}