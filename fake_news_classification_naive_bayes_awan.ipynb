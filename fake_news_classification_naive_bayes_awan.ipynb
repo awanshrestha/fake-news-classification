{
  "metadata": {
    "kernelspec": {
      "language": "python",
      "display_name": "Python 3",
      "name": "python3"
    },
    "language_info": {
      "pygments_lexer": "ipython3",
      "nbconvert_exporter": "python",
      "version": "3.6.4",
      "file_extension": ".py",
      "codemirror_mode": {
        "name": "ipython",
        "version": 3
      },
      "name": "python",
      "mimetype": "text/x-python"
    },
    "colab": {
      "name": "fake-news-classification-naive-bayes-awan.ipynb",
      "provenance": [],
      "include_colab_link": true
    }
  },
  "nbformat_minor": 0,
  "nbformat": 4,
  "cells": [
    {
      "cell_type": "markdown",
      "metadata": {
        "id": "view-in-github",
        "colab_type": "text"
      },
      "source": [
        "<a href=\"https://colab.research.google.com/github/awanshrestha/fake-news-classification/blob/main/fake_news_classification_naive_bayes_awan.ipynb\" target=\"_parent\"><img src=\"https://colab.research.google.com/assets/colab-badge.svg\" alt=\"Open In Colab\"/></a>"
      ]
    },
    {
      "cell_type": "markdown",
      "source": [
        "# **Naive Bayes**"
      ],
      "metadata": {
        "id": "tGjbJkY6crrq"
      }
    },
    {
      "cell_type": "markdown",
      "source": [
        "#### **Importing All Necessary Library**"
      ],
      "metadata": {
        "id": "zypdOZk3crrz"
      }
    },
    {
      "cell_type": "code",
      "source": [
        "import pandas as pd\n",
        "import numpy as np\n",
        "!pip install stop_words\n",
        "import re, nltk, stop_words\n",
        "from sklearn.feature_extraction.text import CountVectorizer\n",
        "from sklearn.model_selection import train_test_split\n",
        "from sklearn.naive_bayes import BernoulliNB\n",
        "from sklearn.metrics import confusion_matrix, classification_report"
      ],
      "metadata": {
        "execution": {
          "iopub.status.busy": "2021-10-16T05:58:22.315791Z",
          "iopub.execute_input": "2021-10-16T05:58:22.31622Z",
          "iopub.status.idle": "2021-10-16T05:58:23.042469Z",
          "shell.execute_reply.started": "2021-10-16T05:58:22.316107Z",
          "shell.execute_reply": "2021-10-16T05:58:23.041538Z"
        },
        "trusted": true,
        "colab": {
          "base_uri": "https://localhost:8080/"
        },
        "id": "UMS1GK4ccrr1",
        "outputId": "9d81a24b-493c-4d73-9894-e5e4a101cb32"
      },
      "execution_count": 4,
      "outputs": [
        {
          "output_type": "stream",
          "name": "stdout",
          "text": [
            "Collecting stop_words\n",
            "  Downloading stop-words-2018.7.23.tar.gz (31 kB)\n",
            "Building wheels for collected packages: stop-words\n",
            "  Building wheel for stop-words (setup.py) ... \u001b[?25l\u001b[?25hdone\n",
            "  Created wheel for stop-words: filename=stop_words-2018.7.23-py3-none-any.whl size=32912 sha256=20f97647f5d9e3356919778b82bf71e3fa3ed63ec6014124ee5c0bcf114a7837\n",
            "  Stored in directory: /root/.cache/pip/wheels/fb/86/b2/277b10b1ce9f73ce15059bf6975d4547cc4ec3feeb651978e9\n",
            "Successfully built stop-words\n",
            "Installing collected packages: stop-words\n",
            "Successfully installed stop-words-2018.7.23\n"
          ]
        }
      ]
    },
    {
      "cell_type": "code",
      "source": [
        "from google.colab import drive\n",
        "drive.mount('/content/drive')"
      ],
      "metadata": {
        "colab": {
          "base_uri": "https://localhost:8080/"
        },
        "id": "DnwF7uGTcuxy",
        "outputId": "d8e5853a-b9b1-4647-d7c1-2157c26dcfe1"
      },
      "execution_count": 5,
      "outputs": [
        {
          "output_type": "stream",
          "name": "stdout",
          "text": [
            "Drive already mounted at /content/drive; to attempt to forcibly remount, call drive.mount(\"/content/drive\", force_remount=True).\n"
          ]
        }
      ]
    },
    {
      "cell_type": "markdown",
      "source": [
        "#### **Gathering Data**"
      ],
      "metadata": {
        "id": "SjMwEwnDcrr3"
      }
    },
    {
      "cell_type": "code",
      "source": [
        "fake = pd.read_csv('/content/drive/MyDrive/Colab Notebooks/Fake.csv')\n",
        "real = pd.read_csv('/content/drive/MyDrive/Colab Notebooks/True.csv')\n",
        "fake['fake?'] = 1\n",
        "real['fake?'] = 0\n",
        "df = pd.concat([fake,real])\n",
        "df = df.sample(frac=1).reset_index(drop=True)\n",
        "df.head()"
      ],
      "metadata": {
        "execution": {
          "iopub.status.busy": "2021-10-16T05:58:24.397987Z",
          "iopub.execute_input": "2021-10-16T05:58:24.398281Z",
          "iopub.status.idle": "2021-10-16T05:58:27.249206Z",
          "shell.execute_reply.started": "2021-10-16T05:58:24.398253Z",
          "shell.execute_reply": "2021-10-16T05:58:27.248336Z"
        },
        "trusted": true,
        "colab": {
          "base_uri": "https://localhost:8080/",
          "height": 206
        },
        "id": "7MZtps3Dcrr5",
        "outputId": "93ef6266-2bb8-46f4-8343-9b55d3b7d63e"
      },
      "execution_count": 6,
      "outputs": [
        {
          "output_type": "execute_result",
          "data": {
            "text/html": [
              "<div>\n",
              "<style scoped>\n",
              "    .dataframe tbody tr th:only-of-type {\n",
              "        vertical-align: middle;\n",
              "    }\n",
              "\n",
              "    .dataframe tbody tr th {\n",
              "        vertical-align: top;\n",
              "    }\n",
              "\n",
              "    .dataframe thead th {\n",
              "        text-align: right;\n",
              "    }\n",
              "</style>\n",
              "<table border=\"1\" class=\"dataframe\">\n",
              "  <thead>\n",
              "    <tr style=\"text-align: right;\">\n",
              "      <th></th>\n",
              "      <th>title</th>\n",
              "      <th>text</th>\n",
              "      <th>subject</th>\n",
              "      <th>date</th>\n",
              "      <th>fake?</th>\n",
              "    </tr>\n",
              "  </thead>\n",
              "  <tbody>\n",
              "    <tr>\n",
              "      <th>0</th>\n",
              "      <td>After Nevada, Sanders faces struggle to broade...</td>\n",
              "      <td>WASHINGTON (Reuters) - Bernie Sanders’ high-fl...</td>\n",
              "      <td>politicsNews</td>\n",
              "      <td>February 21, 2016</td>\n",
              "      <td>0</td>\n",
              "    </tr>\n",
              "    <tr>\n",
              "      <th>1</th>\n",
              "      <td>Putin and Trump to Potentially Meet in Slovenia</td>\n",
              "      <td>21st Century Wire says The Russian President, ...</td>\n",
              "      <td>US_News</td>\n",
              "      <td>February 10, 2017</td>\n",
              "      <td>1</td>\n",
              "    </tr>\n",
              "    <tr>\n",
              "      <th>2</th>\n",
              "      <td>Behind Donald Trump, a son-in-law who is also ...</td>\n",
              "      <td>NEW YORK (Reuters) - Before introducing Donald...</td>\n",
              "      <td>politicsNews</td>\n",
              "      <td>April 4, 2016</td>\n",
              "      <td>0</td>\n",
              "    </tr>\n",
              "    <tr>\n",
              "      <th>3</th>\n",
              "      <td>Saudi Arabia suspends any dialogue with Qatar:...</td>\n",
              "      <td>DUBAI (Reuters) - Saudi Arabia on Saturday sus...</td>\n",
              "      <td>worldnews</td>\n",
              "      <td>September 8, 2017</td>\n",
              "      <td>0</td>\n",
              "    </tr>\n",
              "    <tr>\n",
              "      <th>4</th>\n",
              "      <td>Guatemala prosecutors target ex-president for ...</td>\n",
              "      <td>GUATEMALA CITY (Reuters) - Guatemala s attorne...</td>\n",
              "      <td>worldnews</td>\n",
              "      <td>October 6, 2017</td>\n",
              "      <td>0</td>\n",
              "    </tr>\n",
              "  </tbody>\n",
              "</table>\n",
              "</div>"
            ],
            "text/plain": [
              "                                               title  ... fake?\n",
              "0  After Nevada, Sanders faces struggle to broade...  ...     0\n",
              "1    Putin and Trump to Potentially Meet in Slovenia  ...     1\n",
              "2  Behind Donald Trump, a son-in-law who is also ...  ...     0\n",
              "3  Saudi Arabia suspends any dialogue with Qatar:...  ...     0\n",
              "4  Guatemala prosecutors target ex-president for ...  ...     0\n",
              "\n",
              "[5 rows x 5 columns]"
            ]
          },
          "metadata": {},
          "execution_count": 6
        }
      ]
    },
    {
      "cell_type": "markdown",
      "source": [
        "#### **Data Cleaning : Removing Stop Words, Unnecessary Characters and Stemming**"
      ],
      "metadata": {
        "id": "IYGe37zecrr6"
      }
    },
    {
      "cell_type": "code",
      "source": [
        "def transformation(text):\n",
        "    text = re.sub('[^A-Za-z]',' ',text)\n",
        "    return ' '.join([nltk.stem.PorterStemmer().stem(word) for word in text.lower().split() if word not in stop_words.get_stop_words('english')])\n",
        "text = df['text'].apply(transformation)\n",
        "labels = df['fake?']"
      ],
      "metadata": {
        "execution": {
          "iopub.status.busy": "2021-10-16T05:58:27.251037Z",
          "iopub.execute_input": "2021-10-16T05:58:27.251287Z",
          "iopub.status.idle": "2021-10-16T06:06:36.959671Z",
          "shell.execute_reply.started": "2021-10-16T05:58:27.251255Z",
          "shell.execute_reply": "2021-10-16T06:06:36.958665Z"
        },
        "trusted": true,
        "id": "ap6jvPERcrr7"
      },
      "execution_count": 7,
      "outputs": []
    },
    {
      "cell_type": "markdown",
      "source": [
        "#### **Encoding words to numbers using Bag of Words**"
      ],
      "metadata": {
        "id": "oPvfMNgHcrr8"
      }
    },
    {
      "cell_type": "code",
      "source": [
        "vectorize = CountVectorizer(max_features=200,ngram_range=(1,3))\n",
        "x = vectorize.fit_transform(text).toarray()\n",
        "y = np.array(labels)"
      ],
      "metadata": {
        "execution": {
          "iopub.status.busy": "2021-10-16T06:06:36.960974Z",
          "iopub.execute_input": "2021-10-16T06:06:36.961201Z",
          "iopub.status.idle": "2021-10-16T06:08:27.892995Z",
          "shell.execute_reply.started": "2021-10-16T06:06:36.961174Z",
          "shell.execute_reply": "2021-10-16T06:08:27.892093Z"
        },
        "trusted": true,
        "id": "ywax9mEicrr-"
      },
      "execution_count": 8,
      "outputs": []
    },
    {
      "cell_type": "markdown",
      "source": [
        "#### **Spliting dataset for Training and Testing**"
      ],
      "metadata": {
        "id": "0D648JNOcrsA"
      }
    },
    {
      "cell_type": "code",
      "source": [
        "xtrain, xtest, ytrain, ytest = train_test_split(x,y,test_size=0.2,random_state=34)\n",
        "print('\\nTotal number of samples in the Train Dataset :',xtrain.shape[0])\n",
        "print('Total number of samples in the Test Dataset :',xtest.shape[0])"
      ],
      "metadata": {
        "execution": {
          "iopub.status.busy": "2021-10-16T06:08:27.894733Z",
          "iopub.execute_input": "2021-10-16T06:08:27.895226Z",
          "iopub.status.idle": "2021-10-16T06:08:27.937126Z",
          "shell.execute_reply.started": "2021-10-16T06:08:27.895184Z",
          "shell.execute_reply": "2021-10-16T06:08:27.936266Z"
        },
        "trusted": true,
        "colab": {
          "base_uri": "https://localhost:8080/"
        },
        "id": "HqZnrZdgcrsB",
        "outputId": "1d0cbf66-d1ba-49f4-c575-cf9ea7c72dae"
      },
      "execution_count": 9,
      "outputs": [
        {
          "output_type": "stream",
          "name": "stdout",
          "text": [
            "\n",
            "Total number of samples in the Train Dataset : 35918\n",
            "Total number of samples in the Test Dataset : 8980\n"
          ]
        }
      ]
    },
    {
      "cell_type": "markdown",
      "source": [
        "#### **Training Bernoulli Naive Bayes Classification Model**"
      ],
      "metadata": {
        "id": "AOdMMDxKcrsC"
      }
    },
    {
      "cell_type": "code",
      "source": [
        "bnb = BernoulliNB().fit(xtrain,ytrain)\n",
        "print('\\nAccuracy score :',bnb.score(xtest,ytest))"
      ],
      "metadata": {
        "execution": {
          "iopub.status.busy": "2021-10-16T06:08:49.224315Z",
          "iopub.execute_input": "2021-10-16T06:08:49.225275Z",
          "iopub.status.idle": "2021-10-16T06:08:49.456359Z",
          "shell.execute_reply.started": "2021-10-16T06:08:49.22523Z",
          "shell.execute_reply": "2021-10-16T06:08:49.455142Z"
        },
        "trusted": true,
        "colab": {
          "base_uri": "https://localhost:8080/"
        },
        "id": "TIkHY9SGcrsC",
        "outputId": "bcf2bbd8-75c7-4d54-a3a7-5dcd6f68a7bf"
      },
      "execution_count": 10,
      "outputs": [
        {
          "output_type": "stream",
          "name": "stdout",
          "text": [
            "\n",
            "Accuracy score : 0.9804008908685968\n"
          ]
        }
      ]
    },
    {
      "cell_type": "markdown",
      "source": [
        "#### **Performance Analysis of Model**"
      ],
      "metadata": {
        "id": "R8iI7_xHcrsC"
      }
    },
    {
      "cell_type": "code",
      "source": [
        "ypred = bnb.predict(xtest)\n",
        "print('Confusion Metrics : \\n\\n',confusion_matrix(ytest,ypred),'\\n\\n')\n",
        "print('Classification Report :\\n\\n',classification_report(ytest,ypred))"
      ],
      "metadata": {
        "execution": {
          "iopub.status.busy": "2021-10-16T06:10:16.469556Z",
          "iopub.execute_input": "2021-10-16T06:10:16.470169Z",
          "iopub.status.idle": "2021-10-16T06:10:16.561262Z",
          "shell.execute_reply.started": "2021-10-16T06:10:16.470116Z",
          "shell.execute_reply": "2021-10-16T06:10:16.560447Z"
        },
        "trusted": true,
        "colab": {
          "base_uri": "https://localhost:8080/"
        },
        "id": "u7pABUnGcrsD",
        "outputId": "5763e554-084c-46f5-b39b-6af4362d8793"
      },
      "execution_count": 11,
      "outputs": [
        {
          "output_type": "stream",
          "name": "stdout",
          "text": [
            "Confusion Metrics : \n",
            "\n",
            " [[4309   74]\n",
            " [ 102 4495]] \n",
            "\n",
            "\n",
            "Classification Report :\n",
            "\n",
            "               precision    recall  f1-score   support\n",
            "\n",
            "           0       0.98      0.98      0.98      4383\n",
            "           1       0.98      0.98      0.98      4597\n",
            "\n",
            "    accuracy                           0.98      8980\n",
            "   macro avg       0.98      0.98      0.98      8980\n",
            "weighted avg       0.98      0.98      0.98      8980\n",
            "\n"
          ]
        }
      ]
    },
    {
      "cell_type": "markdown",
      "source": [
        "#### **Defining the function that checks the News and return weather it is Fake or Real**"
      ],
      "metadata": {
        "id": "sJvVUhFacrsD"
      }
    },
    {
      "cell_type": "code",
      "source": [
        "def predict(text):\n",
        "    text = transformation(text)\n",
        "    text = vectorize.transform([text])\n",
        "    if bnb.predict(text)[0] == 1:\n",
        "        print('This is fake news.')\n",
        "    else:\n",
        "        print('This is real news.')"
      ],
      "metadata": {
        "execution": {
          "iopub.status.busy": "2021-10-16T06:10:18.057871Z",
          "iopub.execute_input": "2021-10-16T06:10:18.058209Z",
          "iopub.status.idle": "2021-10-16T06:10:18.064916Z",
          "shell.execute_reply.started": "2021-10-16T06:10:18.058179Z",
          "shell.execute_reply": "2021-10-16T06:10:18.063514Z"
        },
        "trusted": true,
        "id": "XLkvJzGxcrsD"
      },
      "execution_count": 12,
      "outputs": []
    },
    {
      "cell_type": "markdown",
      "source": [
        "#### **Testing the Function and Classification of News - Real or Fake?**"
      ],
      "metadata": {
        "id": "vHjrqfZxcrsE"
      }
    },
    {
      "cell_type": "code",
      "source": [
        "corpus1 = '''One of Donald Trump s favorite punching bags is CNN. He even once tweeted a GIF image of himself punching a person with a CNN logo superimposed over the head \n",
        "            indicating that he d like to enact violence against CNN s reporters. Then there was the time he tweeted the  Trump Train roaring over  CNN.  Now, he s back at it \n",
        "            this time suggesting that  fake  CNN should be the ones representing America to the world, and that they are doing a bad job. Here is that tweet:.@FoxNews \n",
        "            is MUCH more important in the United States than CNN, but outside of the U.S., CNN International is still a major source of (Fake) news, and they represent\n",
        "            our Nation to the WORLD very poorly. The outside world does not see the truth from them!  Donald J. Trump (@realDonaldTrump) November 25, 2017Of course, \n",
        "            it is beneath the dignity of most people to respond to a moronic buffoon like Trump under normal circumstances. However, he is currently squatting in the \n",
        "            White House, and has his tiny orange hands on the levers of power   not to mention the nuclear codes   so they have to stoop to a Trumpian level when \n",
        "            personally attacked. However, being, well, you know, FIT to be doing the job they are doing, the good folks at CNN Communications fired back at Trump, and \n",
        "            their response is nothing short of perfect:It's not CNN's job to represent the U.S to the world. That's yours. Our job is to report the news. #FactsFirst   \n",
        "            CNN Communications (@CNNPR) November 25, 2017BOOM! Couldn t have asked for a sicker burn than this. And they are right of course   especially the part about\n",
        "            #FactsFirst. Trump has a problem with the truth, as we all well know. That s what makes what the CNN Communications people replied so fabulous. \n",
        "            It is the ultimate truth   something the likes of the pathological orange liar that is Donald Trump knows nothing about.Featured image via  \n",
        "            Andrew Burton/Getty Images '''\n",
        "\n",
        "\n",
        "\n",
        "corpus2 = '''WASHINGTON (Reuters) - The No. 2 Republican in the U.S. House of Representatives said on Tuesday the House would likely need to vote again on tax\n",
        "            legislation on Wednesday morning given that Democrats in the Senate were likely to prevail on a procedural objection. House Majority Leader Kevin McCarthy \n",
        "            advised House lawmakers that Senate Democrats were likely to object that the legislation fails to comply with the so-called Byrd rule and were likely to be\n",
        "            upheld, necessitating a second House vote. “As such, members are further advised that an additional procedural vote on the Motion to Concur is expected \n",
        "                tomorrow morning, which will clear the bill for President Trump’s signature,” McCarthy said in a notice to House lawmakers. '''\n",
        "\n",
        "predict(corpus1)\n",
        "predict(corpus2)"
      ],
      "metadata": {
        "execution": {
          "iopub.status.busy": "2021-10-16T06:10:19.349485Z",
          "iopub.execute_input": "2021-10-16T06:10:19.349803Z",
          "iopub.status.idle": "2021-10-16T06:10:19.374772Z",
          "shell.execute_reply.started": "2021-10-16T06:10:19.349771Z",
          "shell.execute_reply": "2021-10-16T06:10:19.373539Z"
        },
        "trusted": true,
        "colab": {
          "base_uri": "https://localhost:8080/"
        },
        "id": "1J_u3ittcrsE",
        "outputId": "72a869f5-dec4-47c6-9d87-d541515eccd1"
      },
      "execution_count": 13,
      "outputs": [
        {
          "output_type": "stream",
          "name": "stdout",
          "text": [
            "This is fake news.\n",
            "This is real news.\n"
          ]
        }
      ]
    }
  ]
}